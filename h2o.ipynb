{
 "cells": [
  {
   "cell_type": "code",
   "execution_count": 9,
   "id": "2f13bc13",
   "metadata": {},
   "outputs": [
    {
     "name": "stdout",
     "output_type": "stream",
     "text": [
      "Fri Jan  3 09:25:57 2025       \n",
      "+-----------------------------------------------------------------------------------------+\n",
      "| NVIDIA-SMI 555.42.06              Driver Version: 555.42.06      CUDA Version: 12.5     |\n",
      "|-----------------------------------------+------------------------+----------------------+\n",
      "| GPU  Name                 Persistence-M | Bus-Id          Disp.A | Volatile Uncorr. ECC |\n",
      "| Fan  Temp   Perf          Pwr:Usage/Cap |           Memory-Usage | GPU-Util  Compute M. |\n",
      "|                                         |                        |               MIG M. |\n",
      "|=========================================+========================+======================|\n",
      "|   0  NVIDIA A100-PCIE-40GB          Off |   00000000:27:00.0 Off |                   On |\n",
      "| N/A   33C    P0             70W /  250W |                  N/A   |     N/A      Default |\n",
      "|                                         |                        |              Enabled |\n",
      "+-----------------------------------------+------------------------+----------------------+\n",
      "\n",
      "+-----------------------------------------------------------------------------------------+\n",
      "| MIG devices:                                                                            |\n",
      "+------------------+----------------------------------+-----------+-----------------------+\n",
      "| GPU  GI  CI  MIG |                     Memory-Usage |        Vol|      Shared           |\n",
      "|      ID  ID  Dev |                       BAR1-Usage | SM     Unc| CE ENC DEC OFA JPG    |\n",
      "|                  |                                  |        ECC|                       |\n",
      "|==================+==================================+===========+=======================|\n",
      "|  0   10   0   0  |              13MiB /  4864MiB    | 14      0 |  1   0    0    0    0 |\n",
      "|                  |                 0MiB /  8191MiB  |           |                       |\n",
      "+------------------+----------------------------------+-----------+-----------------------+\n",
      "                                                                                         \n",
      "+-----------------------------------------------------------------------------------------+\n",
      "| Processes:                                                                              |\n",
      "|  GPU   GI   CI        PID   Type   Process name                              GPU Memory |\n",
      "|        ID   ID                                                               Usage      |\n",
      "|=========================================================================================|\n",
      "|  No running processes found                                                             |\n",
      "+-----------------------------------------------------------------------------------------+\n"
     ]
    }
   ],
   "source": [
    "!nvidia-smi"
   ]
  },
  {
   "cell_type": "code",
   "execution_count": 10,
   "id": "fcab0251",
   "metadata": {},
   "outputs": [
    {
     "name": "stdout",
     "output_type": "stream",
     "text": [
      "Reading package lists... Done\n",
      "Building dependency tree... Done\n",
      "Reading state information... Done\n",
      "The following additional packages will be installed:\n",
      "  libice-dev libpthread-stubs0-dev libsm-dev libx11-dev libxau-dev libxcb1-dev\n",
      "  libxdmcp-dev libxt-dev openjdk-11-jdk-headless x11proto-dev\n",
      "  xorg-sgml-doctools xtrans-dev\n",
      "Suggested packages:\n",
      "  libice-doc libsm-doc libx11-doc libxcb-doc libxt-doc openjdk-11-demo\n",
      "  openjdk-11-source visualvm\n",
      "The following NEW packages will be installed:\n",
      "  libice-dev libpthread-stubs0-dev libsm-dev libx11-dev libxau-dev libxcb1-dev\n",
      "  libxdmcp-dev libxt-dev openjdk-11-jdk openjdk-11-jdk-headless x11proto-dev\n",
      "  xorg-sgml-doctools xtrans-dev\n",
      "0 upgraded, 13 newly installed, 0 to remove and 13 not upgraded.\n",
      "Need to get 77.1 MB of archives.\n",
      "After this operation, 90.8 MB of additional disk space will be used.\n",
      "Get:1 http://archive.ubuntu.com/ubuntu jammy/main amd64 xorg-sgml-doctools all 1:1.11-1.1 [10.9 kB]\n",
      "Get:2 http://archive.ubuntu.com/ubuntu jammy/main amd64 x11proto-dev all 2021.5-1 [604 kB]\n",
      "Get:3 http://archive.ubuntu.com/ubuntu jammy/main amd64 libice-dev amd64 2:1.0.10-1build2 [51.4 kB]\n",
      "Get:4 http://archive.ubuntu.com/ubuntu jammy/main amd64 libpthread-stubs0-dev amd64 0.4-1build2 [5,516 B]\n",
      "Get:5 http://archive.ubuntu.com/ubuntu jammy/main amd64 libsm-dev amd64 2:1.2.3-1build2 [18.1 kB]\n",
      "Get:6 http://archive.ubuntu.com/ubuntu jammy/main amd64 libxau-dev amd64 1:1.0.9-1build5 [9,724 B]\n",
      "Get:7 http://archive.ubuntu.com/ubuntu jammy/main amd64 libxdmcp-dev amd64 1:1.1.3-0ubuntu5 [26.5 kB]\n",
      "Get:8 http://archive.ubuntu.com/ubuntu jammy/main amd64 xtrans-dev all 1.4.0-1 [68.9 kB]\n",
      "Get:9 http://archive.ubuntu.com/ubuntu jammy/main amd64 libxcb1-dev amd64 1.14-3ubuntu3 [86.5 kB]\n",
      "Get:10 http://archive.ubuntu.com/ubuntu jammy-updates/main amd64 libx11-dev amd64 2:1.7.5-1ubuntu0.3 [744 kB]\n",
      "Get:11 http://archive.ubuntu.com/ubuntu jammy/main amd64 libxt-dev amd64 1:1.2.1-1 [396 kB]\n",
      "Get:12 http://archive.ubuntu.com/ubuntu jammy-updates/main amd64 openjdk-11-jdk-headless amd64 11.0.25+9-1ubuntu1~22.04 [73.7 MB]\n",
      "Get:13 http://archive.ubuntu.com/ubuntu jammy-updates/main amd64 openjdk-11-jdk amd64 11.0.25+9-1ubuntu1~22.04 [1,334 kB]\n",
      "Fetched 77.1 MB in 3s (25.7 MB/s)          \n",
      "debconf: delaying package configuration, since apt-utils is not installed\n",
      "Selecting previously unselected package xorg-sgml-doctools.\n",
      "(Reading database ... 47624 files and directories currently installed.)\n",
      "Preparing to unpack .../00-xorg-sgml-doctools_1%3a1.11-1.1_all.deb ...\n",
      "Unpacking xorg-sgml-doctools (1:1.11-1.1) ...\n",
      "Selecting previously unselected package x11proto-dev.\n",
      "Preparing to unpack .../01-x11proto-dev_2021.5-1_all.deb ...\n",
      "Unpacking x11proto-dev (2021.5-1) ...\n",
      "Selecting previously unselected package libice-dev:amd64.\n",
      "Preparing to unpack .../02-libice-dev_2%3a1.0.10-1build2_amd64.deb ...\n",
      "Unpacking libice-dev:amd64 (2:1.0.10-1build2) ...\n",
      "Selecting previously unselected package libpthread-stubs0-dev:amd64.\n",
      "Preparing to unpack .../03-libpthread-stubs0-dev_0.4-1build2_amd64.deb ...\n",
      "Unpacking libpthread-stubs0-dev:amd64 (0.4-1build2) ...\n",
      "Selecting previously unselected package libsm-dev:amd64.\n",
      "Preparing to unpack .../04-libsm-dev_2%3a1.2.3-1build2_amd64.deb ...\n",
      "Unpacking libsm-dev:amd64 (2:1.2.3-1build2) ...\n",
      "Selecting previously unselected package libxau-dev:amd64.\n",
      "Preparing to unpack .../05-libxau-dev_1%3a1.0.9-1build5_amd64.deb ...\n",
      "Unpacking libxau-dev:amd64 (1:1.0.9-1build5) ...\n",
      "Selecting previously unselected package libxdmcp-dev:amd64.\n",
      "Preparing to unpack .../06-libxdmcp-dev_1%3a1.1.3-0ubuntu5_amd64.deb ...\n",
      "Unpacking libxdmcp-dev:amd64 (1:1.1.3-0ubuntu5) ...\n",
      "Selecting previously unselected package xtrans-dev.\n",
      "Preparing to unpack .../07-xtrans-dev_1.4.0-1_all.deb ...\n",
      "Unpacking xtrans-dev (1.4.0-1) ...\n",
      "Selecting previously unselected package libxcb1-dev:amd64.\n",
      "Preparing to unpack .../08-libxcb1-dev_1.14-3ubuntu3_amd64.deb ...\n",
      "Unpacking libxcb1-dev:amd64 (1.14-3ubuntu3) ...\n",
      "Selecting previously unselected package libx11-dev:amd64.\n",
      "Preparing to unpack .../09-libx11-dev_2%3a1.7.5-1ubuntu0.3_amd64.deb ...\n",
      "Unpacking libx11-dev:amd64 (2:1.7.5-1ubuntu0.3) ...\n",
      "Selecting previously unselected package libxt-dev:amd64.\n",
      "Preparing to unpack .../10-libxt-dev_1%3a1.2.1-1_amd64.deb ...\n",
      "Unpacking libxt-dev:amd64 (1:1.2.1-1) ...\n",
      "Selecting previously unselected package openjdk-11-jdk-headless:amd64.\n",
      "Preparing to unpack .../11-openjdk-11-jdk-headless_11.0.25+9-1ubuntu1~22.04_amd64.deb ...\n",
      "Unpacking openjdk-11-jdk-headless:amd64 (11.0.25+9-1ubuntu1~22.04) ...\n",
      "Selecting previously unselected package openjdk-11-jdk:amd64.\n",
      "Preparing to unpack .../12-openjdk-11-jdk_11.0.25+9-1ubuntu1~22.04_amd64.deb ...\n",
      "Unpacking openjdk-11-jdk:amd64 (11.0.25+9-1ubuntu1~22.04) ...\n",
      "Setting up openjdk-11-jdk-headless:amd64 (11.0.25+9-1ubuntu1~22.04) ...\n",
      "update-alternatives: using /usr/lib/jvm/java-11-openjdk-amd64/bin/jar to provide /usr/bin/jar (jar) in auto mode\n",
      "update-alternatives: using /usr/lib/jvm/java-11-openjdk-amd64/bin/jarsigner to provide /usr/bin/jarsigner (jarsigner) in auto mode\n",
      "update-alternatives: using /usr/lib/jvm/java-11-openjdk-amd64/bin/javac to provide /usr/bin/javac (javac) in auto mode\n",
      "update-alternatives: using /usr/lib/jvm/java-11-openjdk-amd64/bin/javadoc to provide /usr/bin/javadoc (javadoc) in auto mode\n",
      "update-alternatives: using /usr/lib/jvm/java-11-openjdk-amd64/bin/javap to provide /usr/bin/javap (javap) in auto mode\n",
      "update-alternatives: using /usr/lib/jvm/java-11-openjdk-amd64/bin/jcmd to provide /usr/bin/jcmd (jcmd) in auto mode\n",
      "update-alternatives: using /usr/lib/jvm/java-11-openjdk-amd64/bin/jdb to provide /usr/bin/jdb (jdb) in auto mode\n",
      "update-alternatives: using /usr/lib/jvm/java-11-openjdk-amd64/bin/jdeprscan to provide /usr/bin/jdeprscan (jdeprscan) in auto mode\n",
      "update-alternatives: using /usr/lib/jvm/java-11-openjdk-amd64/bin/jdeps to provide /usr/bin/jdeps (jdeps) in auto mode\n",
      "update-alternatives: using /usr/lib/jvm/java-11-openjdk-amd64/bin/jfr to provide /usr/bin/jfr (jfr) in auto mode\n",
      "update-alternatives: using /usr/lib/jvm/java-11-openjdk-amd64/bin/jimage to provide /usr/bin/jimage (jimage) in auto mode\n",
      "update-alternatives: using /usr/lib/jvm/java-11-openjdk-amd64/bin/jinfo to provide /usr/bin/jinfo (jinfo) in auto mode\n",
      "update-alternatives: using /usr/lib/jvm/java-11-openjdk-amd64/bin/jlink to provide /usr/bin/jlink (jlink) in auto mode\n",
      "update-alternatives: using /usr/lib/jvm/java-11-openjdk-amd64/bin/jmap to provide /usr/bin/jmap (jmap) in auto mode\n",
      "update-alternatives: using /usr/lib/jvm/java-11-openjdk-amd64/bin/jmod to provide /usr/bin/jmod (jmod) in auto mode\n",
      "update-alternatives: using /usr/lib/jvm/java-11-openjdk-amd64/bin/jps to provide /usr/bin/jps (jps) in auto mode\n",
      "update-alternatives: using /usr/lib/jvm/java-11-openjdk-amd64/bin/jrunscript to provide /usr/bin/jrunscript (jrunscript) in auto mode\n",
      "update-alternatives: using /usr/lib/jvm/java-11-openjdk-amd64/bin/jshell to provide /usr/bin/jshell (jshell) in auto mode\n",
      "update-alternatives: using /usr/lib/jvm/java-11-openjdk-amd64/bin/jstack to provide /usr/bin/jstack (jstack) in auto mode\n",
      "update-alternatives: using /usr/lib/jvm/java-11-openjdk-amd64/bin/jstat to provide /usr/bin/jstat (jstat) in auto mode\n",
      "update-alternatives: using /usr/lib/jvm/java-11-openjdk-amd64/bin/jstatd to provide /usr/bin/jstatd (jstatd) in auto mode\n",
      "update-alternatives: using /usr/lib/jvm/java-11-openjdk-amd64/bin/rmic to provide /usr/bin/rmic (rmic) in auto mode\n",
      "update-alternatives: using /usr/lib/jvm/java-11-openjdk-amd64/bin/serialver to provide /usr/bin/serialver (serialver) in auto mode\n",
      "update-alternatives: using /usr/lib/jvm/java-11-openjdk-amd64/bin/jaotc to provide /usr/bin/jaotc (jaotc) in auto mode\n",
      "update-alternatives: using /usr/lib/jvm/java-11-openjdk-amd64/bin/jhsdb to provide /usr/bin/jhsdb (jhsdb) in auto mode\n",
      "Setting up libpthread-stubs0-dev:amd64 (0.4-1build2) ...\n",
      "Setting up xtrans-dev (1.4.0-1) ...\n",
      "Setting up openjdk-11-jdk:amd64 (11.0.25+9-1ubuntu1~22.04) ...\n",
      "update-alternatives: using /usr/lib/jvm/java-11-openjdk-amd64/bin/jconsole to provide /usr/bin/jconsole (jconsole) in auto mode\n",
      "Setting up xorg-sgml-doctools (1:1.11-1.1) ...\n",
      "Setting up x11proto-dev (2021.5-1) ...\n",
      "Setting up libxau-dev:amd64 (1:1.0.9-1build5) ...\n",
      "Setting up libice-dev:amd64 (2:1.0.10-1build2) ...\n",
      "Setting up libsm-dev:amd64 (2:1.2.3-1build2) ...\n",
      "Setting up libxdmcp-dev:amd64 (1:1.1.3-0ubuntu5) ...\n",
      "Setting up libxcb1-dev:amd64 (1.14-3ubuntu3) ...\n",
      "Setting up libx11-dev:amd64 (2:1.7.5-1ubuntu0.3) ...\n",
      "Setting up libxt-dev:amd64 (1:1.2.1-1) ...\n",
      "Processing triggers for man-db (2.10.2-1) ...\n",
      "Requirement already satisfied: h2o in /opt/conda/lib/python3.12/site-packages (3.46.0.6)\n",
      "Requirement already satisfied: requests in /opt/conda/lib/python3.12/site-packages (from h2o) (2.32.3)\n",
      "Requirement already satisfied: tabulate in /opt/conda/lib/python3.12/site-packages (from h2o) (0.9.0)\n",
      "Requirement already satisfied: charset_normalizer<4,>=2 in /opt/conda/lib/python3.12/site-packages (from requests->h2o) (3.4.0)\n",
      "Requirement already satisfied: idna<4,>=2.5 in /opt/conda/lib/python3.12/site-packages (from requests->h2o) (3.10)\n",
      "Requirement already satisfied: urllib3<3,>=1.21.1 in /opt/conda/lib/python3.12/site-packages (from requests->h2o) (2.2.3)\n",
      "Requirement already satisfied: certifi>=2017.4.17 in /opt/conda/lib/python3.12/site-packages (from requests->h2o) (2024.8.30)\n"
     ]
    }
   ],
   "source": [
    "!sudo apt-get install -y openjdk-11-jdk\n",
    "\n",
    "# Set Java environment variables\n",
    "import os\n",
    "os.environ['JAVA_HOME'] = '/usr/lib/jvm/java-11-openjdk-amd64'\n",
    "os.environ['PATH'] = f\"{os.environ['JAVA_HOME']}/bin:{os.environ['PATH']}\"\n",
    "\n",
    "# Install H2O (if not already installed)\n",
    "!pip install h2o"
   ]
  },
  {
   "cell_type": "code",
   "execution_count": 11,
   "id": "79032350",
   "metadata": {},
   "outputs": [
    {
     "name": "stdout",
     "output_type": "stream",
     "text": [
      "3.46.0.6\n",
      "Checking whether there is an H2O instance running at http://localhost:54321..... not found.\n",
      "Attempting to start a local H2O server...\n",
      "  Java Version: openjdk version \"11.0.25\" 2024-10-15; OpenJDK Runtime Environment (build 11.0.25+9-post-Ubuntu-1ubuntu122.04); OpenJDK 64-Bit Server VM (build 11.0.25+9-post-Ubuntu-1ubuntu122.04, mixed mode, sharing)\n",
      "  Starting server from /opt/conda/lib/python3.12/site-packages/h2o/backend/bin/h2o.jar\n",
      "  Ice root: /tmp/tmpv7doc3kf\n",
      "  JVM stdout: /tmp/tmpv7doc3kf/h2o_unknownUser_started_from_python.out\n",
      "  JVM stderr: /tmp/tmpv7doc3kf/h2o_unknownUser_started_from_python.err\n",
      "  Server is running at http://127.0.0.1:54321\n",
      "Connecting to H2O server at http://127.0.0.1:54321 ... successful.\n"
     ]
    },
    {
     "data": {
      "text/html": [
       "\n",
       "<style>\n",
       "\n",
       "#h2o-table-1.h2o-container {\n",
       "  overflow-x: auto;\n",
       "}\n",
       "#h2o-table-1 .h2o-table {\n",
       "  /* width: 100%; */\n",
       "  margin-top: 1em;\n",
       "  margin-bottom: 1em;\n",
       "}\n",
       "#h2o-table-1 .h2o-table caption {\n",
       "  white-space: nowrap;\n",
       "  caption-side: top;\n",
       "  text-align: left;\n",
       "  /* margin-left: 1em; */\n",
       "  margin: 0;\n",
       "  font-size: larger;\n",
       "}\n",
       "#h2o-table-1 .h2o-table thead {\n",
       "  white-space: nowrap; \n",
       "  position: sticky;\n",
       "  top: 0;\n",
       "  box-shadow: 0 -1px inset;\n",
       "}\n",
       "#h2o-table-1 .h2o-table tbody {\n",
       "  overflow: auto;\n",
       "}\n",
       "#h2o-table-1 .h2o-table th,\n",
       "#h2o-table-1 .h2o-table td {\n",
       "  text-align: right;\n",
       "  /* border: 1px solid; */\n",
       "}\n",
       "#h2o-table-1 .h2o-table tr:nth-child(even) {\n",
       "  /* background: #F5F5F5 */\n",
       "}\n",
       "\n",
       "</style>      \n",
       "<div id=\"h2o-table-1\" class=\"h2o-container\">\n",
       "  <table class=\"h2o-table\">\n",
       "    <caption></caption>\n",
       "    <thead></thead>\n",
       "    <tbody><tr><td>H2O_cluster_uptime:</td>\n",
       "<td>01 secs</td></tr>\n",
       "<tr><td>H2O_cluster_timezone:</td>\n",
       "<td>UTC</td></tr>\n",
       "<tr><td>H2O_data_parsing_timezone:</td>\n",
       "<td>UTC</td></tr>\n",
       "<tr><td>H2O_cluster_version:</td>\n",
       "<td>3.46.0.6</td></tr>\n",
       "<tr><td>H2O_cluster_version_age:</td>\n",
       "<td>2 months and 1 day</td></tr>\n",
       "<tr><td>H2O_cluster_name:</td>\n",
       "<td>H2O_from_python_unknownUser_hnvf25</td></tr>\n",
       "<tr><td>H2O_cluster_total_nodes:</td>\n",
       "<td>1</td></tr>\n",
       "<tr><td>H2O_cluster_free_memory:</td>\n",
       "<td>16 Gb</td></tr>\n",
       "<tr><td>H2O_cluster_total_cores:</td>\n",
       "<td>30</td></tr>\n",
       "<tr><td>H2O_cluster_allowed_cores:</td>\n",
       "<td>30</td></tr>\n",
       "<tr><td>H2O_cluster_status:</td>\n",
       "<td>locked, healthy</td></tr>\n",
       "<tr><td>H2O_connection_url:</td>\n",
       "<td>http://127.0.0.1:54321</td></tr>\n",
       "<tr><td>H2O_connection_proxy:</td>\n",
       "<td>{\"http\": null, \"https\": null}</td></tr>\n",
       "<tr><td>H2O_internal_security:</td>\n",
       "<td>False</td></tr>\n",
       "<tr><td>Python_version:</td>\n",
       "<td>3.12.7 final</td></tr></tbody>\n",
       "  </table>\n",
       "</div>\n"
      ],
      "text/plain": [
       "--------------------------  ----------------------------------\n",
       "H2O_cluster_uptime:         01 secs\n",
       "H2O_cluster_timezone:       UTC\n",
       "H2O_data_parsing_timezone:  UTC\n",
       "H2O_cluster_version:        3.46.0.6\n",
       "H2O_cluster_version_age:    2 months and 1 day\n",
       "H2O_cluster_name:           H2O_from_python_unknownUser_hnvf25\n",
       "H2O_cluster_total_nodes:    1\n",
       "H2O_cluster_free_memory:    16 Gb\n",
       "H2O_cluster_total_cores:    30\n",
       "H2O_cluster_allowed_cores:  30\n",
       "H2O_cluster_status:         locked, healthy\n",
       "H2O_connection_url:         http://127.0.0.1:54321\n",
       "H2O_connection_proxy:       {\"http\": null, \"https\": null}\n",
       "H2O_internal_security:      False\n",
       "Python_version:             3.12.7 final\n",
       "--------------------------  ----------------------------------"
      ]
     },
     "metadata": {},
     "output_type": "display_data"
    }
   ],
   "source": [
    "import h2o\n",
    "print(h2o.__version__)\n",
    "from h2o.automl import H2OAutoML\n",
    "\n",
    "h2o.init(max_mem_size='16G')"
   ]
  },
  {
   "cell_type": "markdown",
   "id": "e83e4054",
   "metadata": {
    "papermill": {
     "duration": 0.006471,
     "end_time": "2025-01-02T07:58:29.706656",
     "exception": false,
     "start_time": "2025-01-02T07:58:29.700185",
     "status": "completed"
    },
    "tags": []
   },
   "source": [
    "1. My contribution mainly lies in extracting holiday features. \n",
    "2. I used Fitter to view the data distribution of the target column and used statistical indicators to check the deviation between predicted values and true values.\n",
    "3. I haven't programmed for many years. I have been learning Python for the past few months, but I am still not very proficient. I have submitted many times. The parameters are not optimal, but I haven't submitted any more times today. If it is helpful, please upvote. Thanks to everyone."
   ]
  },
  {
   "cell_type": "code",
   "execution_count": 12,
   "id": "ef8d0a27",
   "metadata": {
    "execution": {
     "iopub.execute_input": "2025-01-02T07:58:29.719743Z",
     "iopub.status.busy": "2025-01-02T07:58:29.719319Z",
     "iopub.status.idle": "2025-01-02T07:59:04.060767Z",
     "shell.execute_reply": "2025-01-02T07:59:04.059345Z"
    },
    "papermill": {
     "duration": 34.350312,
     "end_time": "2025-01-02T07:59:04.062983",
     "exception": false,
     "start_time": "2025-01-02T07:58:29.712671",
     "status": "completed"
    },
    "tags": []
   },
   "outputs": [
    {
     "name": "stdout",
     "output_type": "stream",
     "text": [
      "Requirement already satisfied: lightgbm in /opt/conda/lib/python3.12/site-packages (4.5.0)\n",
      "Requirement already satisfied: numpy>=1.17.0 in /opt/conda/lib/python3.12/site-packages (from lightgbm) (1.26.4)\n",
      "Requirement already satisfied: scipy in /opt/conda/lib/python3.12/site-packages (from lightgbm) (1.14.1)\n",
      "Requirement already satisfied: catboost in /opt/conda/lib/python3.12/site-packages (1.2.7)\n",
      "Requirement already satisfied: graphviz in /opt/conda/lib/python3.12/site-packages (from catboost) (0.20.3)\n",
      "Requirement already satisfied: matplotlib in /opt/conda/lib/python3.12/site-packages (from catboost) (3.9.3)\n",
      "Requirement already satisfied: numpy<2.0,>=1.16.0 in /opt/conda/lib/python3.12/site-packages (from catboost) (1.26.4)\n",
      "Requirement already satisfied: pandas>=0.24 in /opt/conda/lib/python3.12/site-packages (from catboost) (2.2.3)\n",
      "Requirement already satisfied: scipy in /opt/conda/lib/python3.12/site-packages (from catboost) (1.14.1)\n",
      "Requirement already satisfied: plotly in /opt/conda/lib/python3.12/site-packages (from catboost) (5.24.1)\n",
      "Requirement already satisfied: six in /opt/conda/lib/python3.12/site-packages (from catboost) (1.17.0)\n",
      "Requirement already satisfied: python-dateutil>=2.8.2 in /opt/conda/lib/python3.12/site-packages (from pandas>=0.24->catboost) (2.9.0.post0)\n",
      "Requirement already satisfied: pytz>=2020.1 in /opt/conda/lib/python3.12/site-packages (from pandas>=0.24->catboost) (2024.1)\n",
      "Requirement already satisfied: tzdata>=2022.7 in /opt/conda/lib/python3.12/site-packages (from pandas>=0.24->catboost) (2024.2)\n",
      "Requirement already satisfied: contourpy>=1.0.1 in /opt/conda/lib/python3.12/site-packages (from matplotlib->catboost) (1.3.1)\n",
      "Requirement already satisfied: cycler>=0.10 in /opt/conda/lib/python3.12/site-packages (from matplotlib->catboost) (0.12.1)\n",
      "Requirement already satisfied: fonttools>=4.22.0 in /opt/conda/lib/python3.12/site-packages (from matplotlib->catboost) (4.55.2)\n",
      "Requirement already satisfied: kiwisolver>=1.3.1 in /opt/conda/lib/python3.12/site-packages (from matplotlib->catboost) (1.4.7)\n",
      "Requirement already satisfied: packaging>=20.0 in /opt/conda/lib/python3.12/site-packages (from matplotlib->catboost) (24.1)\n",
      "Requirement already satisfied: pillow>=8 in /opt/conda/lib/python3.12/site-packages (from matplotlib->catboost) (11.0.0)\n",
      "Requirement already satisfied: pyparsing>=2.3.1 in /opt/conda/lib/python3.12/site-packages (from matplotlib->catboost) (3.2.0)\n",
      "Requirement already satisfied: tenacity>=6.2.0 in /opt/conda/lib/python3.12/site-packages (from plotly->catboost) (9.0.0)\n",
      "Requirement already satisfied: holidays in /opt/conda/lib/python3.12/site-packages (0.63)\n",
      "Requirement already satisfied: python-dateutil in /opt/conda/lib/python3.12/site-packages (from holidays) (2.9.0.post0)\n",
      "Requirement already satisfied: six>=1.5 in /opt/conda/lib/python3.12/site-packages (from python-dateutil->holidays) (1.17.0)\n"
     ]
    }
   ],
   "source": [
    "!pip install -U --q /home/onyxia/work/Forecasting_Sticker_Sales/fitter-1.7.1-py3-none-any.whl\n",
    "!pip install -U --q pycountry\n",
    "!pip install lightgbm\n",
    "!pip install catboost\n",
    "!pip install holidays"
   ]
  },
  {
   "cell_type": "code",
   "execution_count": 13,
   "id": "b529de14",
   "metadata": {
    "execution": {
     "iopub.execute_input": "2025-01-02T07:59:04.077245Z",
     "iopub.status.busy": "2025-01-02T07:59:04.076822Z",
     "iopub.status.idle": "2025-01-02T07:59:15.414244Z",
     "shell.execute_reply": "2025-01-02T07:59:15.413038Z"
    },
    "papermill": {
     "duration": 11.34692,
     "end_time": "2025-01-02T07:59:15.416397",
     "exception": false,
     "start_time": "2025-01-02T07:59:04.069477",
     "status": "completed"
    },
    "tags": []
   },
   "outputs": [],
   "source": [
    "import pandas as pd\n",
    "import numpy as np\n",
    "import matplotlib.pyplot as plt\n",
    "import seaborn as sns\n",
    "import warnings\n",
    "warnings.filterwarnings('ignore')\n",
    "import lightgbm as lgb\n",
    "from catboost import CatBoostRegressor, Pool\n",
    "\n",
    "from sklearn.model_selection import KFold\n",
    "from sklearn.metrics import mean_absolute_percentage_error\n",
    "import holidays\n",
    "import pycountry\n",
    "\n",
    "from fitter import Fitter\n",
    "from scipy import stats\n",
    "\n",
    "SEED = 42\n",
    "n_splits = 5\n",
    "n_estimators=1000\n",
    "early_stopping_rounds = 100\n",
    "FE_holidays = True"
   ]
  },
  {
   "cell_type": "code",
   "execution_count": 14,
   "id": "61563ffa",
   "metadata": {
    "execution": {
     "iopub.execute_input": "2025-01-02T07:59:15.431038Z",
     "iopub.status.busy": "2025-01-02T07:59:15.430207Z",
     "iopub.status.idle": "2025-01-02T07:59:15.942246Z",
     "shell.execute_reply": "2025-01-02T07:59:15.940994Z"
    },
    "papermill": {
     "duration": 0.52161,
     "end_time": "2025-01-02T07:59:15.944433",
     "exception": false,
     "start_time": "2025-01-02T07:59:15.422823",
     "status": "completed"
    },
    "tags": []
   },
   "outputs": [
    {
     "name": "stdout",
     "output_type": "stream",
     "text": [
      "train_data shape : (230130, 6)\n",
      "test_data shape : (98550, 5)\n",
      "data shape : (98550, 2)\n"
     ]
    }
   ],
   "source": [
    "train_data = pd.read_csv(r\"/home/onyxia/work/Forecasting_Sticker_Sales/train.csv\")\n",
    "test_data = pd.read_csv(r\"/home/onyxia/work/Forecasting_Sticker_Sales/test.csv\")\n",
    "data = pd.read_csv(r\"/home/onyxia/work/Forecasting_Sticker_Sales/sample_submission.csv\")\n",
    "\n",
    "print(\"train_data shape :\",train_data.shape)\n",
    "print(\"test_data shape :\",test_data.shape)\n",
    "print(\"data shape :\",data.shape)"
   ]
  },
  {
   "cell_type": "code",
   "execution_count": 15,
   "id": "88875939",
   "metadata": {
    "execution": {
     "iopub.execute_input": "2025-01-02T07:59:15.958695Z",
     "iopub.status.busy": "2025-01-02T07:59:15.958342Z",
     "iopub.status.idle": "2025-01-02T07:59:15.979134Z",
     "shell.execute_reply": "2025-01-02T07:59:15.978049Z"
    },
    "papermill": {
     "duration": 0.030081,
     "end_time": "2025-01-02T07:59:15.981100",
     "exception": false,
     "start_time": "2025-01-02T07:59:15.951019",
     "status": "completed"
    },
    "tags": []
   },
   "outputs": [
    {
     "data": {
      "text/html": [
       "<div>\n",
       "<style scoped>\n",
       "    .dataframe tbody tr th:only-of-type {\n",
       "        vertical-align: middle;\n",
       "    }\n",
       "\n",
       "    .dataframe tbody tr th {\n",
       "        vertical-align: top;\n",
       "    }\n",
       "\n",
       "    .dataframe thead th {\n",
       "        text-align: right;\n",
       "    }\n",
       "</style>\n",
       "<table border=\"1\" class=\"dataframe\">\n",
       "  <thead>\n",
       "    <tr style=\"text-align: right;\">\n",
       "      <th></th>\n",
       "      <th>id</th>\n",
       "      <th>date</th>\n",
       "      <th>country</th>\n",
       "      <th>store</th>\n",
       "      <th>product</th>\n",
       "      <th>num_sold</th>\n",
       "    </tr>\n",
       "  </thead>\n",
       "  <tbody>\n",
       "    <tr>\n",
       "      <th>0</th>\n",
       "      <td>0</td>\n",
       "      <td>2010-01-01</td>\n",
       "      <td>Canada</td>\n",
       "      <td>Discount Stickers</td>\n",
       "      <td>Holographic Goose</td>\n",
       "      <td>NaN</td>\n",
       "    </tr>\n",
       "    <tr>\n",
       "      <th>1</th>\n",
       "      <td>1</td>\n",
       "      <td>2010-01-01</td>\n",
       "      <td>Canada</td>\n",
       "      <td>Discount Stickers</td>\n",
       "      <td>Kaggle</td>\n",
       "      <td>973.0</td>\n",
       "    </tr>\n",
       "    <tr>\n",
       "      <th>2</th>\n",
       "      <td>2</td>\n",
       "      <td>2010-01-01</td>\n",
       "      <td>Canada</td>\n",
       "      <td>Discount Stickers</td>\n",
       "      <td>Kaggle Tiers</td>\n",
       "      <td>906.0</td>\n",
       "    </tr>\n",
       "    <tr>\n",
       "      <th>3</th>\n",
       "      <td>3</td>\n",
       "      <td>2010-01-01</td>\n",
       "      <td>Canada</td>\n",
       "      <td>Discount Stickers</td>\n",
       "      <td>Kerneler</td>\n",
       "      <td>423.0</td>\n",
       "    </tr>\n",
       "    <tr>\n",
       "      <th>4</th>\n",
       "      <td>4</td>\n",
       "      <td>2010-01-01</td>\n",
       "      <td>Canada</td>\n",
       "      <td>Discount Stickers</td>\n",
       "      <td>Kerneler Dark Mode</td>\n",
       "      <td>491.0</td>\n",
       "    </tr>\n",
       "  </tbody>\n",
       "</table>\n",
       "</div>"
      ],
      "text/plain": [
       "   id        date country              store             product  num_sold\n",
       "0   0  2010-01-01  Canada  Discount Stickers   Holographic Goose       NaN\n",
       "1   1  2010-01-01  Canada  Discount Stickers              Kaggle     973.0\n",
       "2   2  2010-01-01  Canada  Discount Stickers        Kaggle Tiers     906.0\n",
       "3   3  2010-01-01  Canada  Discount Stickers            Kerneler     423.0\n",
       "4   4  2010-01-01  Canada  Discount Stickers  Kerneler Dark Mode     491.0"
      ]
     },
     "execution_count": 15,
     "metadata": {},
     "output_type": "execute_result"
    }
   ],
   "source": [
    "train_data.head()"
   ]
  },
  {
   "cell_type": "code",
   "execution_count": 16,
   "id": "04ed46a4",
   "metadata": {
    "execution": {
     "iopub.execute_input": "2025-01-02T07:59:15.995793Z",
     "iopub.status.busy": "2025-01-02T07:59:15.995430Z",
     "iopub.status.idle": "2025-01-02T07:59:16.032840Z",
     "shell.execute_reply": "2025-01-02T07:59:16.031392Z"
    },
    "papermill": {
     "duration": 0.046978,
     "end_time": "2025-01-02T07:59:16.034768",
     "exception": false,
     "start_time": "2025-01-02T07:59:15.987790",
     "status": "completed"
    },
    "tags": []
   },
   "outputs": [
    {
     "data": {
      "text/html": [
       "<div>\n",
       "<style scoped>\n",
       "    .dataframe tbody tr th:only-of-type {\n",
       "        vertical-align: middle;\n",
       "    }\n",
       "\n",
       "    .dataframe tbody tr th {\n",
       "        vertical-align: top;\n",
       "    }\n",
       "\n",
       "    .dataframe thead th {\n",
       "        text-align: right;\n",
       "    }\n",
       "</style>\n",
       "<table border=\"1\" class=\"dataframe\">\n",
       "  <thead>\n",
       "    <tr style=\"text-align: right;\">\n",
       "      <th></th>\n",
       "      <th>id</th>\n",
       "      <th>num_sold</th>\n",
       "    </tr>\n",
       "  </thead>\n",
       "  <tbody>\n",
       "    <tr>\n",
       "      <th>count</th>\n",
       "      <td>230130.000000</td>\n",
       "      <td>221259.000000</td>\n",
       "    </tr>\n",
       "    <tr>\n",
       "      <th>mean</th>\n",
       "      <td>115064.500000</td>\n",
       "      <td>752.527382</td>\n",
       "    </tr>\n",
       "    <tr>\n",
       "      <th>std</th>\n",
       "      <td>66432.953062</td>\n",
       "      <td>690.165445</td>\n",
       "    </tr>\n",
       "    <tr>\n",
       "      <th>min</th>\n",
       "      <td>0.000000</td>\n",
       "      <td>5.000000</td>\n",
       "    </tr>\n",
       "    <tr>\n",
       "      <th>25%</th>\n",
       "      <td>57532.250000</td>\n",
       "      <td>219.000000</td>\n",
       "    </tr>\n",
       "    <tr>\n",
       "      <th>50%</th>\n",
       "      <td>115064.500000</td>\n",
       "      <td>605.000000</td>\n",
       "    </tr>\n",
       "    <tr>\n",
       "      <th>75%</th>\n",
       "      <td>172596.750000</td>\n",
       "      <td>1114.000000</td>\n",
       "    </tr>\n",
       "    <tr>\n",
       "      <th>max</th>\n",
       "      <td>230129.000000</td>\n",
       "      <td>5939.000000</td>\n",
       "    </tr>\n",
       "  </tbody>\n",
       "</table>\n",
       "</div>"
      ],
      "text/plain": [
       "                  id       num_sold\n",
       "count  230130.000000  221259.000000\n",
       "mean   115064.500000     752.527382\n",
       "std     66432.953062     690.165445\n",
       "min         0.000000       5.000000\n",
       "25%     57532.250000     219.000000\n",
       "50%    115064.500000     605.000000\n",
       "75%    172596.750000    1114.000000\n",
       "max    230129.000000    5939.000000"
      ]
     },
     "execution_count": 16,
     "metadata": {},
     "output_type": "execute_result"
    }
   ],
   "source": [
    "train_data.describe()"
   ]
  },
  {
   "cell_type": "code",
   "execution_count": 17,
   "id": "2b326089",
   "metadata": {
    "execution": {
     "iopub.execute_input": "2025-01-02T07:59:16.050154Z",
     "iopub.status.busy": "2025-01-02T07:59:16.049655Z",
     "iopub.status.idle": "2025-01-02T07:59:16.100695Z",
     "shell.execute_reply": "2025-01-02T07:59:16.099576Z"
    },
    "papermill": {
     "duration": 0.061027,
     "end_time": "2025-01-02T07:59:16.102566",
     "exception": false,
     "start_time": "2025-01-02T07:59:16.041539",
     "status": "completed"
    },
    "tags": []
   },
   "outputs": [
    {
     "data": {
      "text/plain": [
       "num_sold    8871\n",
       "id             0\n",
       "date           0\n",
       "country        0\n",
       "store          0\n",
       "product        0\n",
       "dtype: int64"
      ]
     },
     "execution_count": 17,
     "metadata": {},
     "output_type": "execute_result"
    }
   ],
   "source": [
    "train_data.isna().sum().sort_values(ascending=False)"
   ]
  },
  {
   "cell_type": "code",
   "execution_count": 18,
   "id": "d59d6ea4",
   "metadata": {
    "execution": {
     "iopub.execute_input": "2025-01-02T07:59:16.117524Z",
     "iopub.status.busy": "2025-01-02T07:59:16.117141Z",
     "iopub.status.idle": "2025-01-02T07:59:16.145546Z",
     "shell.execute_reply": "2025-01-02T07:59:16.144514Z"
    },
    "papermill": {
     "duration": 0.037998,
     "end_time": "2025-01-02T07:59:16.147342",
     "exception": false,
     "start_time": "2025-01-02T07:59:16.109344",
     "status": "completed"
    },
    "tags": []
   },
   "outputs": [
    {
     "data": {
      "text/plain": [
       "country\n",
       "Canada       38355\n",
       "Finland      38355\n",
       "Italy        38355\n",
       "Kenya        38355\n",
       "Norway       38355\n",
       "Singapore    38355\n",
       "Name: count, dtype: int64"
      ]
     },
     "execution_count": 18,
     "metadata": {},
     "output_type": "execute_result"
    }
   ],
   "source": [
    "train_data['country'].value_counts()"
   ]
  },
  {
   "cell_type": "code",
   "execution_count": 19,
   "id": "a5085c25",
   "metadata": {
    "execution": {
     "iopub.execute_input": "2025-01-02T07:59:16.162462Z",
     "iopub.status.busy": "2025-01-02T07:59:16.162094Z",
     "iopub.status.idle": "2025-01-02T07:59:16.340365Z",
     "shell.execute_reply": "2025-01-02T07:59:16.338842Z"
    },
    "papermill": {
     "duration": 0.188108,
     "end_time": "2025-01-02T07:59:16.342469",
     "exception": false,
     "start_time": "2025-01-02T07:59:16.154361",
     "status": "completed"
    },
    "tags": []
   },
   "outputs": [
    {
     "name": "stdout",
     "output_type": "stream",
     "text": [
      "train_data shape : (221259, 6)\n"
     ]
    }
   ],
   "source": [
    "train_data = train_data.drop_duplicates()\n",
    "train_data = train_data.dropna()\n",
    "print(\"train_data shape :\",train_data.shape)"
   ]
  },
  {
   "cell_type": "code",
   "execution_count": 20,
   "id": "75211e20",
   "metadata": {
    "execution": {
     "iopub.execute_input": "2025-01-02T07:59:16.360785Z",
     "iopub.status.busy": "2025-01-02T07:59:16.360413Z",
     "iopub.status.idle": "2025-01-02T07:59:16.372049Z",
     "shell.execute_reply": "2025-01-02T07:59:16.370897Z"
    },
    "papermill": {
     "duration": 0.023262,
     "end_time": "2025-01-02T07:59:16.373627",
     "exception": false,
     "start_time": "2025-01-02T07:59:16.350365",
     "status": "completed"
    },
    "tags": []
   },
   "outputs": [
    {
     "data": {
      "text/html": [
       "<div>\n",
       "<style scoped>\n",
       "    .dataframe tbody tr th:only-of-type {\n",
       "        vertical-align: middle;\n",
       "    }\n",
       "\n",
       "    .dataframe tbody tr th {\n",
       "        vertical-align: top;\n",
       "    }\n",
       "\n",
       "    .dataframe thead th {\n",
       "        text-align: right;\n",
       "    }\n",
       "</style>\n",
       "<table border=\"1\" class=\"dataframe\">\n",
       "  <thead>\n",
       "    <tr style=\"text-align: right;\">\n",
       "      <th></th>\n",
       "      <th>id</th>\n",
       "      <th>date</th>\n",
       "      <th>country</th>\n",
       "      <th>store</th>\n",
       "      <th>product</th>\n",
       "    </tr>\n",
       "  </thead>\n",
       "  <tbody>\n",
       "    <tr>\n",
       "      <th>0</th>\n",
       "      <td>230130</td>\n",
       "      <td>2017-01-01</td>\n",
       "      <td>Canada</td>\n",
       "      <td>Discount Stickers</td>\n",
       "      <td>Holographic Goose</td>\n",
       "    </tr>\n",
       "    <tr>\n",
       "      <th>1</th>\n",
       "      <td>230131</td>\n",
       "      <td>2017-01-01</td>\n",
       "      <td>Canada</td>\n",
       "      <td>Discount Stickers</td>\n",
       "      <td>Kaggle</td>\n",
       "    </tr>\n",
       "    <tr>\n",
       "      <th>2</th>\n",
       "      <td>230132</td>\n",
       "      <td>2017-01-01</td>\n",
       "      <td>Canada</td>\n",
       "      <td>Discount Stickers</td>\n",
       "      <td>Kaggle Tiers</td>\n",
       "    </tr>\n",
       "    <tr>\n",
       "      <th>3</th>\n",
       "      <td>230133</td>\n",
       "      <td>2017-01-01</td>\n",
       "      <td>Canada</td>\n",
       "      <td>Discount Stickers</td>\n",
       "      <td>Kerneler</td>\n",
       "    </tr>\n",
       "    <tr>\n",
       "      <th>4</th>\n",
       "      <td>230134</td>\n",
       "      <td>2017-01-01</td>\n",
       "      <td>Canada</td>\n",
       "      <td>Discount Stickers</td>\n",
       "      <td>Kerneler Dark Mode</td>\n",
       "    </tr>\n",
       "  </tbody>\n",
       "</table>\n",
       "</div>"
      ],
      "text/plain": [
       "       id        date country              store             product\n",
       "0  230130  2017-01-01  Canada  Discount Stickers   Holographic Goose\n",
       "1  230131  2017-01-01  Canada  Discount Stickers              Kaggle\n",
       "2  230132  2017-01-01  Canada  Discount Stickers        Kaggle Tiers\n",
       "3  230133  2017-01-01  Canada  Discount Stickers            Kerneler\n",
       "4  230134  2017-01-01  Canada  Discount Stickers  Kerneler Dark Mode"
      ]
     },
     "execution_count": 20,
     "metadata": {},
     "output_type": "execute_result"
    }
   ],
   "source": [
    "test_data.head()"
   ]
  },
  {
   "cell_type": "code",
   "execution_count": 21,
   "id": "c7428cd5",
   "metadata": {
    "execution": {
     "iopub.execute_input": "2025-01-02T07:59:16.389399Z",
     "iopub.status.busy": "2025-01-02T07:59:16.388962Z",
     "iopub.status.idle": "2025-01-02T07:59:16.417212Z",
     "shell.execute_reply": "2025-01-02T07:59:16.415769Z"
    },
    "papermill": {
     "duration": 0.038247,
     "end_time": "2025-01-02T07:59:16.419078",
     "exception": false,
     "start_time": "2025-01-02T07:59:16.380831",
     "status": "completed"
    },
    "tags": []
   },
   "outputs": [
    {
     "data": {
      "text/plain": [
       "id         0\n",
       "date       0\n",
       "country    0\n",
       "store      0\n",
       "product    0\n",
       "dtype: int64"
      ]
     },
     "execution_count": 21,
     "metadata": {},
     "output_type": "execute_result"
    }
   ],
   "source": [
    "test_data.isna().sum().sort_values(ascending=False)"
   ]
  },
  {
   "cell_type": "code",
   "execution_count": 22,
   "id": "6dfccd4f",
   "metadata": {
    "execution": {
     "iopub.execute_input": "2025-01-02T07:59:16.435427Z",
     "iopub.status.busy": "2025-01-02T07:59:16.435064Z",
     "iopub.status.idle": "2025-01-02T07:59:16.746129Z",
     "shell.execute_reply": "2025-01-02T07:59:16.744982Z"
    },
    "papermill": {
     "duration": 0.321476,
     "end_time": "2025-01-02T07:59:16.748298",
     "exception": false,
     "start_time": "2025-01-02T07:59:16.426822",
     "status": "completed"
    },
    "tags": []
   },
   "outputs": [],
   "source": [
    "train_data['date'] = pd.to_datetime(train_data['date'])\n",
    "test_data['date'] = pd.to_datetime(test_data['date'])\n",
    "\n",
    "train_data['Year'] = train_data['date'].dt.year\n",
    "train_data['Quarter'] = train_data['date'].dt.quarter\n",
    "train_data['Month'] = train_data['date'].dt.month\n",
    "train_data['Day'] = train_data['date'].dt.day\n",
    "train_data['day_of_week'] = train_data['date'].dt.day_name()\n",
    "train_data['week_of_year'] = train_data['date'].dt.isocalendar().week\n",
    "\n",
    "train_data['day_sin'] = np.sin(2 * np.pi * train_data['Day'] / 365.0)\n",
    "train_data['day_cos'] = np.cos(2 * np.pi * train_data['Day'] / 365.0)\n",
    "train_data['month_sin'] = np.sin(2 * np.pi * train_data['Month'] / 12.0)\n",
    "train_data['month_cos'] = np.cos(2 * np.pi * train_data['Month'] / 12.0)\n",
    "train_data['year_sin'] = np.sin(2 * np.pi * train_data['Year'] / 7.0)\n",
    "train_data['year_cos'] = np.cos(2 * np.pi * train_data['Year'] / 7.0)\n",
    "train_data['Group']=(train_data['Year']-2010)*48+train_data['Month']*4+train_data['Day']//7\n",
    "\n",
    "test_data['Year'] = test_data['date'].dt.year\n",
    "test_data['Quarter'] = test_data['date'].dt.quarter\n",
    "test_data['Month'] = test_data['date'].dt.month\n",
    "test_data['Day'] = test_data['date'].dt.day\n",
    "test_data['day_of_week'] = test_data['date'].dt.day_name()\n",
    "test_data['week_of_year'] = test_data['date'].dt.isocalendar().week\n",
    "\n",
    "test_data['day_sin'] = np.sin(2 * np.pi * test_data['Day'] / 365.0)\n",
    "test_data['day_cos'] = np.cos(2 * np.pi * test_data['Day'] / 365.0)\n",
    "test_data['month_sin'] = np.sin(2 * np.pi * test_data['Month'] / 12.0)\n",
    "test_data['month_cos'] = np.cos(2 * np.pi * test_data['Month'] / 12.0)\n",
    "test_data['year_sin'] = np.sin(2 * np.pi * test_data['Year'] / 7.0)\n",
    "test_data['year_cos'] = np.cos(2 * np.pi * test_data['Year'] / 7.0)\n",
    "test_data['Group']=(test_data['Year']-2010)*48+test_data['Month']*4+test_data['Day']//7\n",
    "\n"
   ]
  },
  {
   "cell_type": "code",
   "execution_count": 23,
   "id": "8210ca8c",
   "metadata": {
    "execution": {
     "iopub.execute_input": "2025-01-02T07:59:16.765008Z",
     "iopub.status.busy": "2025-01-02T07:59:16.764603Z",
     "iopub.status.idle": "2025-01-02T07:59:17.157128Z",
     "shell.execute_reply": "2025-01-02T07:59:17.156104Z"
    },
    "papermill": {
     "duration": 0.402912,
     "end_time": "2025-01-02T07:59:17.159057",
     "exception": false,
     "start_time": "2025-01-02T07:59:16.756145",
     "status": "completed"
    },
    "tags": []
   },
   "outputs": [],
   "source": [
    "train_data['Quarter'] = train_data['Quarter'].astype('str')\n",
    "train_data['Month'] = train_data['Month'].astype('str')\n",
    "train_data['day_of_week'] = train_data['day_of_week'].astype('str')\n",
    "train_data['week_of_year'] = train_data['week_of_year'].astype('str')\n",
    "\n",
    "test_data['Quarter'] = test_data['Quarter'].astype('str')\n",
    "test_data['Month'] = test_data['Month'].astype('str')\n",
    "test_data['day_of_week'] = test_data['day_of_week'].astype('str')\n",
    "test_data['week_of_year'] = test_data['week_of_year'].astype('str')"
   ]
  },
  {
   "cell_type": "code",
   "execution_count": 24,
   "id": "d473b270",
   "metadata": {
    "execution": {
     "iopub.execute_input": "2025-01-02T07:59:17.174800Z",
     "iopub.status.busy": "2025-01-02T07:59:17.174402Z",
     "iopub.status.idle": "2025-01-02T08:02:50.957147Z",
     "shell.execute_reply": "2025-01-02T08:02:50.955799Z"
    },
    "papermill": {
     "duration": 213.793092,
     "end_time": "2025-01-02T08:02:50.959465",
     "exception": false,
     "start_time": "2025-01-02T07:59:17.166373",
     "status": "completed"
    },
    "tags": []
   },
   "outputs": [],
   "source": [
    "def get_holiday_name(country_code, date_obj):\n",
    "    country_holiday = holidays.CountryHoliday(country_code, years=date_obj.year)\n",
    "    return country_holiday.get(date_obj)\n",
    "\n",
    "def get_country_code(country_name):\n",
    "    try:\n",
    "        country = pycountry.countries.get(name=country_name)\n",
    "        return country.alpha_2  \n",
    "    except KeyError:\n",
    "        print(f\"Unknown Country: {country_name}\")\n",
    "        return None\n",
    "\n",
    "def get_holiday_for_row(row):\n",
    "    country_code = get_country_code(row['country'])\n",
    "    if country_code is None:\n",
    "        return 'Unknown Country'\n",
    "    \n",
    "    try:\n",
    "        date_obj = row['date']\n",
    "    except ValueError:\n",
    "        print(f\"Invalid Date: {row['date']}\")\n",
    "        return 'Invalid Date'\n",
    "    \n",
    "    return get_holiday_name(country_code, date_obj)\n",
    "\n",
    "if FE_holidays:\n",
    "    train_data['holidays_name'] = train_data.apply(get_holiday_for_row, axis=1)\n",
    "    test_data['holidays_name'] = test_data.apply(get_holiday_for_row, axis=1)"
   ]
  },
  {
   "cell_type": "code",
   "execution_count": 25,
   "id": "8fd5cb87",
   "metadata": {
    "execution": {
     "iopub.execute_input": "2025-01-02T08:02:50.975579Z",
     "iopub.status.busy": "2025-01-02T08:02:50.975219Z",
     "iopub.status.idle": "2025-01-02T08:02:50.984570Z",
     "shell.execute_reply": "2025-01-02T08:02:50.983340Z"
    },
    "papermill": {
     "duration": 0.018959,
     "end_time": "2025-01-02T08:02:50.986286",
     "exception": false,
     "start_time": "2025-01-02T08:02:50.967327",
     "status": "completed"
    },
    "tags": []
   },
   "outputs": [
    {
     "name": "stdout",
     "output_type": "stream",
     "text": [
      "holidays_name\n",
      "New Year's Day                                 511\n",
      "Christmas Day                                  510\n",
      "Good Friday                                    500\n",
      "Easter Monday                                  302\n",
      "Labor Day                                      300\n",
      "Second Day of Christmas                        210\n",
      "Chinese New Year                               210\n",
      "Easter Sunday                                  210\n",
      "Whit Sunday                                    210\n",
      "Ascension Day                                  195\n",
      "Independence Day                               105\n",
      "Midsummer Eve                                  105\n",
      "Midsummer Day                                  105\n",
      "Christmas Eve                                  105\n",
      "Eid al-Fitr                                    105\n",
      "National Day                                   105\n",
      "Assunzione della Vergine                       105\n",
      "Eid al-Adha                                    105\n",
      "Festa della Repubblica                         105\n",
      "Tutti i Santi                                  105\n",
      "Deepavali                                      105\n",
      "All Saints' Day                                105\n",
      "Capodanno                                      105\n",
      "Natale                                         105\n",
      "Vesak Day                                      105\n",
      "Whit Monday                                    105\n",
      "Festa dei Lavoratori                           105\n",
      "May Day                                        105\n",
      "Santo Stefano                                  105\n",
      "Pasqua di Resurrezione                         105\n",
      "Maundy Thursday                                105\n",
      "Epifania del Signore                           105\n",
      "Epiphany                                       105\n",
      "Immacolata Concezione                          105\n",
      "Christmas Day (observed)                       100\n",
      "Boxing Day                                      96\n",
      "Jamhuri Day                                     95\n",
      "Mashujaa Day                                    94\n",
      "Labour Day                                      92\n",
      "Constitution Day                                90\n",
      "Festa della Liberazione                         90\n",
      "Lunedì dell'Angelo                              90\n",
      "Madaraka Day                                    89\n",
      "Canada Day                                      88\n",
      "New Year's Day (observed)                       57\n",
      "Chinese New Year (observed)                     30\n",
      "Labor Day (observed)                            30\n",
      "Polling Day                                     30\n",
      "Eid al-Adha (observed)                          30\n",
      "Labour Day (observed)                           26\n",
      "Festa della Liberazione; Lunedì dell'Angelo     15\n",
      "Ascension Day; Constitution Day                 15\n",
      "SG50 Public Holiday                             15\n",
      "Eid al-Fitr (observed)                          15\n",
      "National Day (observed)                         15\n",
      "Anniversario dell'Unità d'Italia                15\n",
      "Mashujaa Day (observed)                         14\n",
      "Boxing Day (observed)                           14\n",
      "Madaraka Day (observed)                         13\n",
      "Jamhuri Day (observed)                          12\n",
      "Name: count, dtype: int64\n"
     ]
    }
   ],
   "source": [
    "print(train_data['holidays_name'].value_counts() )\n"
   ]
  },
  {
   "cell_type": "code",
   "execution_count": 26,
   "id": "9a85156f",
   "metadata": {
    "execution": {
     "iopub.execute_input": "2025-01-02T08:02:51.002413Z",
     "iopub.status.busy": "2025-01-02T08:02:51.002024Z",
     "iopub.status.idle": "2025-01-02T08:02:51.076280Z",
     "shell.execute_reply": "2025-01-02T08:02:51.075200Z"
    },
    "papermill": {
     "duration": 0.084411,
     "end_time": "2025-01-02T08:02:51.078145",
     "exception": false,
     "start_time": "2025-01-02T08:02:50.993734",
     "status": "completed"
    },
    "tags": []
   },
   "outputs": [],
   "source": [
    "train_data.drop('date',axis=1,inplace=True)\n",
    "test_data.drop('date',axis=1,inplace=True)"
   ]
  },
  {
   "cell_type": "code",
   "execution_count": 27,
   "id": "a115480b",
   "metadata": {
    "execution": {
     "iopub.execute_input": "2025-01-02T08:02:51.094016Z",
     "iopub.status.busy": "2025-01-02T08:02:51.093612Z",
     "iopub.status.idle": "2025-01-02T08:02:51.349735Z",
     "shell.execute_reply": "2025-01-02T08:02:51.348421Z"
    },
    "papermill": {
     "duration": 0.266071,
     "end_time": "2025-01-02T08:02:51.351521",
     "exception": false,
     "start_time": "2025-01-02T08:02:51.085450",
     "status": "completed"
    },
    "tags": []
   },
   "outputs": [
    {
     "name": "stdout",
     "output_type": "stream",
     "text": [
      "<class 'pandas.core.frame.DataFrame'>\n",
      "Index: 221259 entries, 1 to 230129\n",
      "Data columns (total 19 columns):\n",
      " #   Column         Non-Null Count   Dtype  \n",
      "---  ------         --------------   -----  \n",
      " 0   id             221259 non-null  int64  \n",
      " 1   country        221259 non-null  object \n",
      " 2   store          221259 non-null  object \n",
      " 3   product        221259 non-null  object \n",
      " 4   num_sold       221259 non-null  float64\n",
      " 5   Year           221259 non-null  int32  \n",
      " 6   Quarter        221259 non-null  object \n",
      " 7   Month          221259 non-null  object \n",
      " 8   Day            221259 non-null  int32  \n",
      " 9   day_of_week    221259 non-null  object \n",
      " 10  week_of_year   221259 non-null  object \n",
      " 11  day_sin        221259 non-null  float64\n",
      " 12  day_cos        221259 non-null  float64\n",
      " 13  month_sin      221259 non-null  float64\n",
      " 14  month_cos      221259 non-null  float64\n",
      " 15  year_sin       221259 non-null  float64\n",
      " 16  year_cos       221259 non-null  float64\n",
      " 17  Group          221259 non-null  int32  \n",
      " 18  holidays_name  6948 non-null    object \n",
      "dtypes: float64(7), int32(3), int64(1), object(8)\n",
      "memory usage: 31.2+ MB\n",
      "None\n",
      "num_cols: ['Day', 'Group', 'Year', 'day_cos', 'day_sin', 'month_cos', 'month_sin', 'year_cos', 'year_sin']\n",
      "cat_cols: ['country', 'store', 'product', 'Quarter', 'Month', 'day_of_week', 'week_of_year', 'holidays_name']\n"
     ]
    }
   ],
   "source": [
    "print(train_data.info())\n",
    "\n",
    "train_data = train_data.drop('id', axis = 1)\n",
    "num_cols = list(train_data.select_dtypes(exclude=['object']).columns.difference(['num_sold']))\n",
    "cat_cols = list(train_data.select_dtypes(include=['object']).columns)\n",
    "\n",
    "num_cols_test = list(test_data.select_dtypes(exclude=['object']).columns.difference(['id']))\n",
    "cat_cols_test = list(test_data.select_dtypes(include=['object']).columns)\n",
    "\n",
    "print('num_cols:',num_cols)\n",
    "print('cat_cols:',cat_cols)"
   ]
  },
  {
   "cell_type": "code",
   "execution_count": 28,
   "id": "f61ac9d2",
   "metadata": {
    "execution": {
     "iopub.execute_input": "2025-01-02T08:02:51.367781Z",
     "iopub.status.busy": "2025-01-02T08:02:51.367412Z",
     "iopub.status.idle": "2025-01-02T08:02:51.881994Z",
     "shell.execute_reply": "2025-01-02T08:02:51.880840Z"
    },
    "papermill": {
     "duration": 0.524837,
     "end_time": "2025-01-02T08:02:51.884000",
     "exception": false,
     "start_time": "2025-01-02T08:02:51.359163",
     "status": "completed"
    },
    "tags": []
   },
   "outputs": [],
   "source": [
    "from sklearn.preprocessing import LabelEncoder\n",
    "# Initialize LabelEncoder\n",
    "label_encoders = {col: LabelEncoder() for col in cat_cols}\n",
    "\n",
    "# Apply LabelEncoder to each categorical column\n",
    "for col in cat_cols:\n",
    "    combined_data = pd.concat([train_data[col], test_data[col]])\n",
    "    le = LabelEncoder()\n",
    "    le.fit(combined_data)\n",
    "    train_data[col] = le.transform(train_data[col])\n",
    "    test_data[col] = le.transform(test_data[col])\n",
    "    "
   ]
  },
  {
   "cell_type": "code",
   "execution_count": 29,
   "id": "9c253bc9",
   "metadata": {
    "execution": {
     "iopub.execute_input": "2025-01-02T08:02:51.900212Z",
     "iopub.status.busy": "2025-01-02T08:02:51.899797Z",
     "iopub.status.idle": "2025-01-02T08:03:02.447021Z",
     "shell.execute_reply": "2025-01-02T08:03:02.445309Z"
    },
    "papermill": {
     "duration": 10.558143,
     "end_time": "2025-01-02T08:03:02.449664",
     "exception": false,
     "start_time": "2025-01-02T08:02:51.891521",
     "status": "completed"
    },
    "tags": []
   },
   "outputs": [
    {
     "name": "stderr",
     "output_type": "stream",
     "text": [
      "2025-01-03 09:28:45.916 | INFO     | fitter.fitter:_fit_single_distribution:333 - Fitted laplace distribution with error=6e-06)\n",
      "2025-01-03 09:28:45.928 | INFO     | fitter.fitter:_fit_single_distribution:333 - Fitted expon distribution with error=3e-06)\n",
      "2025-01-03 09:28:45.933 | INFO     | fitter.fitter:_fit_single_distribution:333 - Fitted norm distribution with error=6e-06)\n",
      "2025-01-03 09:28:46.108 | INFO     | fitter.fitter:_fit_single_distribution:333 - Fitted lognorm distribution with error=4e-06)\n",
      "2025-01-03 09:28:49.963 | INFO     | fitter.fitter:_fit_single_distribution:333 - Fitted gamma distribution with error=3e-06)\n"
     ]
    },
    {
     "name": "stdout",
     "output_type": "stream",
     "text": [
      "Distribution of original training data:\n"
     ]
    },
    {
     "data": {
      "image/png": "[encoded data removed]",
      "text/plain": [
       "<Figure size 640x480 with 1 Axes>"
      ]
     },
     "metadata": {},
     "output_type": "display_data"
    }
   ],
   "source": [
    "f = Fitter(train_data['num_sold'], distributions=['norm', 'lognorm', 'laplace', 'expon', 'gamma'])\n",
    "f.fit()\n",
    "print('Distribution of original training data:')\n",
    "f.summary()\n",
    "lognorm_params = f.fitted_param['lognorm']"
   ]
  },
  {
   "cell_type": "code",
   "execution_count": 30,
   "id": "8dc8cf9a",
   "metadata": {
    "execution": {
     "iopub.execute_input": "2025-01-02T08:03:02.470210Z",
     "iopub.status.busy": "2025-01-02T08:03:02.469655Z",
     "iopub.status.idle": "2025-01-02T08:03:02.612629Z",
     "shell.execute_reply": "2025-01-02T08:03:02.611215Z"
    },
    "papermill": {
     "duration": 0.155626,
     "end_time": "2025-01-02T08:03:02.614997",
     "exception": false,
     "start_time": "2025-01-02T08:03:02.459371",
     "status": "completed"
    },
    "tags": []
   },
   "outputs": [],
   "source": [
    "from sklearn.model_selection import train_test_split\n",
    "train_data['num_sold'] = np.log1p(train_data['num_sold'])\n",
    "X = train_data.drop(['num_sold'], axis=1)\n",
    "y = train_data['num_sold']\n",
    "test = test_data.drop(['id'],axis=1)\n",
    "\n",
    "# Split datainto training set and test set\n",
    "X_train, X_test, y_train, y_test = train_test_split(X, y, test_size=0.2, random_state=42)"
   ]
  },
  {
   "cell_type": "code",
   "execution_count": 31,
   "id": "11f76805",
   "metadata": {
    "execution": {
     "iopub.execute_input": "2025-01-02T08:03:02.634614Z",
     "iopub.status.busy": "2025-01-02T08:03:02.634240Z",
     "iopub.status.idle": "2025-01-02T08:03:02.639171Z",
     "shell.execute_reply": "2025-01-02T08:03:02.637915Z"
    },
    "papermill": {
     "duration": 0.01778,
     "end_time": "2025-01-02T08:03:02.641417",
     "exception": false,
     "start_time": "2025-01-02T08:03:02.623637",
     "status": "completed"
    },
    "tags": []
   },
   "outputs": [],
   "source": [
    "# Define MAPE metric\n",
    "def mape(y_true, y_pred):\n",
    "    return mean_absolute_percentage_error(np.expm1(y_true), np.expm1(y_pred))"
   ]
  },
  {
   "cell_type": "code",
   "execution_count": null,
   "id": "14d0cd9c",
   "metadata": {},
   "outputs": [],
   "source": []
  },
  {
   "cell_type": "code",
   "execution_count": 33,
   "id": "a3939136",
   "metadata": {},
   "outputs": [
    {
     "name": "stdout",
     "output_type": "stream",
     "text": [
      "Parse progress: |████████████████████████████████████████████████████████████████| (done) 100%\n",
      "Parse progress: |████████████████████████████████████████████████████████████████| (done) 100%\n",
      "Parse progress: |████████████████████████████████████████████████████████████████| (done) 100%\n"
     ]
    }
   ],
   "source": [
    "train_h2o = h2o.H2OFrame(pd.concat([X_train, y_train], axis=1))\n",
    "test_h2o = h2o.H2OFrame(X_test)\n",
    "unlabeled_test = h2o.H2OFrame(test)"
   ]
  },
  {
   "cell_type": "code",
   "execution_count": 34,
   "id": "cc03c420",
   "metadata": {},
   "outputs": [],
   "source": [
    "target = 'num_sold'\n",
    "predictors = X.columns.tolist()"
   ]
  },
  {
   "cell_type": "code",
   "execution_count": 35,
   "id": "80e259bb",
   "metadata": {},
   "outputs": [
    {
     "name": "stdout",
     "output_type": "stream",
     "text": [
      "AutoML progress: |███████████████████████████████████████████████████████████████| (done) 100%\n"
     ]
    },
    {
     "data": {
      "text/html": [
       "<pre style='margin: 1em 0 1em 0;'>Model Details\n",
       "=============\n",
       "H2OStackedEnsembleEstimator : Stacked Ensemble\n",
       "Model Key: StackedEnsemble_AllModels_1_AutoML_1_20250103_93053\n",
       "</pre>\n",
       "<div style='margin: 1em 0 1em 0;'>\n",
       "<style>\n",
       "\n",
       "#h2o-table-2.h2o-container {\n",
       "  overflow-x: auto;\n",
       "}\n",
       "#h2o-table-2 .h2o-table {\n",
       "  /* width: 100%; */\n",
       "  margin-top: 1em;\n",
       "  margin-bottom: 1em;\n",
       "}\n",
       "#h2o-table-2 .h2o-table caption {\n",
       "  white-space: nowrap;\n",
       "  caption-side: top;\n",
       "  text-align: left;\n",
       "  /* margin-left: 1em; */\n",
       "  margin: 0;\n",
       "  font-size: larger;\n",
       "}\n",
       "#h2o-table-2 .h2o-table thead {\n",
       "  white-space: nowrap; \n",
       "  position: sticky;\n",
       "  top: 0;\n",
       "  box-shadow: 0 -1px inset;\n",
       "}\n",
       "#h2o-table-2 .h2o-table tbody {\n",
       "  overflow: auto;\n",
       "}\n",
       "#h2o-table-2 .h2o-table th,\n",
       "#h2o-table-2 .h2o-table td {\n",
       "  text-align: right;\n",
       "  /* border: 1px solid; */\n",
       "}\n",
       "#h2o-table-2 .h2o-table tr:nth-child(even) {\n",
       "  /* background: #F5F5F5 */\n",
       "}\n",
       "\n",
       "</style>      \n",
       "<div id=\"h2o-table-2\" class=\"h2o-container\">\n",
       "  <table class=\"h2o-table\">\n",
       "    <caption>Model Summary for Stacked Ensemble: </caption>\n",
       "    <thead><tr><th>key</th>\n",
       "<th>value</th></tr></thead>\n",
       "    <tbody><tr><td>Stacking strategy</td>\n",
       "<td>cross_validation</td></tr>\n",
       "<tr><td>Number of base models (used / total)</td>\n",
       "<td>18/20</td></tr>\n",
       "<tr><td># GBM base models (used / total)</td>\n",
       "<td>7/7</td></tr>\n",
       "<tr><td># XGBoost base models (used / total)</td>\n",
       "<td>6/6</td></tr>\n",
       "<tr><td># DRF base models (used / total)</td>\n",
       "<td>2/2</td></tr>\n",
       "<tr><td># DeepLearning base models (used / total)</td>\n",
       "<td>3/4</td></tr>\n",
       "<tr><td># GLM base models (used / total)</td>\n",
       "<td>0/1</td></tr>\n",
       "<tr><td>Metalearner algorithm</td>\n",
       "<td>GLM</td></tr>\n",
       "<tr><td>Metalearner fold assignment scheme</td>\n",
       "<td>Random</td></tr>\n",
       "<tr><td>Metalearner nfolds</td>\n",
       "<td>5</td></tr>\n",
       "<tr><td>Metalearner fold_column</td>\n",
       "<td>None</td></tr>\n",
       "<tr><td>Custom metalearner hyperparameters</td>\n",
       "<td>None</td></tr></tbody>\n",
       "  </table>\n",
       "</div>\n",
       "</div>\n",
       "<div style='margin: 1em 0 1em 0;'><pre style='margin: 1em 0 1em 0;'>ModelMetricsRegressionGLM: stackedensemble\n",
       "** Reported on train data. **\n",
       "\n",
       "MSE: 0.002181868652638481\n",
       "RMSE: 0.04671047690442136\n",
       "MAE: 0.03706259539760321\n",
       "RMSLE: 0.007674445407276979\n",
       "Mean Residual Deviance: 0.002181868652638481\n",
       "R^2: 0.9990428423759095\n",
       "Null degrees of freedom: 9961\n",
       "Residual degrees of freedom: 9943\n",
       "Null deviance: 22709.544078156985\n",
       "Residual deviance: 21.73577551758455\n",
       "AIC: -32731.956760447043</pre></div>\n",
       "<div style='margin: 1em 0 1em 0;'><pre style='margin: 1em 0 1em 0;'>ModelMetricsRegressionGLM: stackedensemble\n",
       "** Reported on cross-validation data. **\n",
       "\n",
       "MSE: 0.002897072914941148\n",
       "RMSE: 0.053824463907605695\n",
       "MAE: 0.04277604020057645\n",
       "RMSLE: 0.008933896564102574\n",
       "Mean Residual Deviance: 0.002897072914941148\n",
       "R^2: 0.9987415865582198\n",
       "Null degrees of freedom: 177006\n",
       "Residual degrees of freedom: 176989\n",
       "Null deviance: 407504.6969866471\n",
       "Residual deviance: 512.8021854549878\n",
       "AIC: -532076.4297631136</pre></div>\n",
       "<div style='margin: 1em 0 1em 0;'>\n",
       "<style>\n",
       "\n",
       "#h2o-table-3.h2o-container {\n",
       "  overflow-x: auto;\n",
       "}\n",
       "#h2o-table-3 .h2o-table {\n",
       "  /* width: 100%; */\n",
       "  margin-top: 1em;\n",
       "  margin-bottom: 1em;\n",
       "}\n",
       "#h2o-table-3 .h2o-table caption {\n",
       "  white-space: nowrap;\n",
       "  caption-side: top;\n",
       "  text-align: left;\n",
       "  /* margin-left: 1em; */\n",
       "  margin: 0;\n",
       "  font-size: larger;\n",
       "}\n",
       "#h2o-table-3 .h2o-table thead {\n",
       "  white-space: nowrap; \n",
       "  position: sticky;\n",
       "  top: 0;\n",
       "  box-shadow: 0 -1px inset;\n",
       "}\n",
       "#h2o-table-3 .h2o-table tbody {\n",
       "  overflow: auto;\n",
       "}\n",
       "#h2o-table-3 .h2o-table th,\n",
       "#h2o-table-3 .h2o-table td {\n",
       "  text-align: right;\n",
       "  /* border: 1px solid; */\n",
       "}\n",
       "#h2o-table-3 .h2o-table tr:nth-child(even) {\n",
       "  /* background: #F5F5F5 */\n",
       "}\n",
       "\n",
       "</style>      \n",
       "<div id=\"h2o-table-3\" class=\"h2o-container\">\n",
       "  <table class=\"h2o-table\">\n",
       "    <caption>Cross-Validation Metrics Summary: </caption>\n",
       "    <thead><tr><th></th>\n",
       "<th>mean</th>\n",
       "<th>sd</th>\n",
       "<th>cv_1_valid</th>\n",
       "<th>cv_2_valid</th>\n",
       "<th>cv_3_valid</th>\n",
       "<th>cv_4_valid</th>\n",
       "<th>cv_5_valid</th></tr></thead>\n",
       "    <tbody><tr><td>aic</td>\n",
       "<td>-106389.4200000</td>\n",
       "<td>633.9535</td>\n",
       "<td>-107009.1640000</td>\n",
       "<td>-106421.3050000</td>\n",
       "<td>-107014.3600000</td>\n",
       "<td>-105658.6</td>\n",
       "<td>-105843.6700000</td></tr>\n",
       "<tr><td>loglikelihood</td>\n",
       "<td>0.0</td>\n",
       "<td>0.0</td>\n",
       "<td>0.0</td>\n",
       "<td>0.0</td>\n",
       "<td>0.0</td>\n",
       "<td>0.0</td>\n",
       "<td>0.0</td></tr>\n",
       "<tr><td>mae</td>\n",
       "<td>0.0427731</td>\n",
       "<td>0.0001255</td>\n",
       "<td>0.0426297</td>\n",
       "<td>0.0427946</td>\n",
       "<td>0.0429368</td>\n",
       "<td>0.0428368</td>\n",
       "<td>0.0426678</td></tr>\n",
       "<tr><td>mean_residual_deviance</td>\n",
       "<td>0.0028967</td>\n",
       "<td>0.0000116</td>\n",
       "<td>0.0028775</td>\n",
       "<td>0.0029065</td>\n",
       "<td>0.0029041</td>\n",
       "<td>0.0028949</td>\n",
       "<td>0.0029004</td></tr>\n",
       "<tr><td>mse</td>\n",
       "<td>0.0028967</td>\n",
       "<td>0.0000116</td>\n",
       "<td>0.0028775</td>\n",
       "<td>0.0029065</td>\n",
       "<td>0.0029041</td>\n",
       "<td>0.0028949</td>\n",
       "<td>0.0029004</td></tr>\n",
       "<tr><td>null_deviance</td>\n",
       "<td>81500.94</td>\n",
       "<td>637.0768</td>\n",
       "<td>82443.1</td>\n",
       "<td>81244.234</td>\n",
       "<td>80866.945</td>\n",
       "<td>81110.086</td>\n",
       "<td>81840.32</td></tr>\n",
       "<tr><td>r2</td>\n",
       "<td>0.9987416</td>\n",
       "<td>0.0000159</td>\n",
       "<td>0.9987599</td>\n",
       "<td>0.9987317</td>\n",
       "<td>0.9987199</td>\n",
       "<td>0.9987454</td>\n",
       "<td>0.9987512</td></tr>\n",
       "<tr><td>residual_deviance</td>\n",
       "<td>102.54679</td>\n",
       "<td>0.7074532</td>\n",
       "<td>102.23515</td>\n",
       "<td>103.03692</td>\n",
       "<td>103.50636</td>\n",
       "<td>101.75837</td>\n",
       "<td>102.19717</td></tr>\n",
       "<tr><td>rmse</td>\n",
       "<td>0.0538208</td>\n",
       "<td>0.0001076</td>\n",
       "<td>0.0536425</td>\n",
       "<td>0.0539116</td>\n",
       "<td>0.0538901</td>\n",
       "<td>0.0538042</td>\n",
       "<td>0.0538558</td></tr>\n",
       "<tr><td>rmsle</td>\n",
       "<td>0.0089333</td>\n",
       "<td>0.0000392</td>\n",
       "<td>0.0089340</td>\n",
       "<td>0.0089732</td>\n",
       "<td>0.0088703</td>\n",
       "<td>0.0089571</td>\n",
       "<td>0.0089321</td></tr></tbody>\n",
       "  </table>\n",
       "</div>\n",
       "</div><pre style=\"font-size: smaller; margin: 1em 0 0 0;\">\n",
       "\n",
       "[tips]\n",
       "Use `model.explain()` to inspect the model.\n",
       "--\n",
       "Use `h2o.display.toggle_user_tips()` to switch on/off this section.</pre>"
      ],
      "text/plain": [
       "Model Details\n",
       "=============\n",
       "H2OStackedEnsembleEstimator : Stacked Ensemble\n",
       "Model Key: StackedEnsemble_AllModels_1_AutoML_1_20250103_93053\n",
       "\n",
       "\n",
       "Model Summary for Stacked Ensemble: \n",
       "key                                        value\n",
       "-----------------------------------------  ----------------\n",
       "Stacking strategy                          cross_validation\n",
       "Number of base models (used / total)       18/20\n",
       "# GBM base models (used / total)           7/7\n",
       "# XGBoost base models (used / total)       6/6\n",
       "# DRF base models (used / total)           2/2\n",
       "# DeepLearning base models (used / total)  3/4\n",
       "# GLM base models (used / total)           0/1\n",
       "Metalearner algorithm                      GLM\n",
       "Metalearner fold assignment scheme         Random\n",
       "Metalearner nfolds                         5\n",
       "Metalearner fold_column\n",
       "Custom metalearner hyperparameters         None\n",
       "\n",
       "ModelMetricsRegressionGLM: stackedensemble\n",
       "** Reported on train data. **\n",
       "\n",
       "MSE: 0.002181868652638481\n",
       "RMSE: 0.04671047690442136\n",
       "MAE: 0.03706259539760321\n",
       "RMSLE: 0.007674445407276979\n",
       "Mean Residual Deviance: 0.002181868652638481\n",
       "R^2: 0.9990428423759095\n",
       "Null degrees of freedom: 9961\n",
       "Residual degrees of freedom: 9943\n",
       "Null deviance: 22709.544078156985\n",
       "Residual deviance: 21.73577551758455\n",
       "AIC: -32731.956760447043\n",
       "\n",
       "ModelMetricsRegressionGLM: stackedensemble\n",
       "** Reported on cross-validation data. **\n",
       "\n",
       "MSE: 0.002897072914941148\n",
       "RMSE: 0.053824463907605695\n",
       "MAE: 0.04277604020057645\n",
       "RMSLE: 0.008933896564102574\n",
       "Mean Residual Deviance: 0.002897072914941148\n",
       "R^2: 0.9987415865582198\n",
       "Null degrees of freedom: 177006\n",
       "Residual degrees of freedom: 176989\n",
       "Null deviance: 407504.6969866471\n",
       "Residual deviance: 512.8021854549878\n",
       "AIC: -532076.4297631136\n",
       "\n",
       "Cross-Validation Metrics Summary: \n",
       "                        mean        sd           cv_1_valid    cv_2_valid    cv_3_valid    cv_4_valid    cv_5_valid\n",
       "----------------------  ----------  -----------  ------------  ------------  ------------  ------------  ------------\n",
       "aic                     -106389     633.953      -107009       -106421       -107014       -105659       -105844\n",
       "loglikelihood           0           0            0             0             0             0             0\n",
       "mae                     0.0427731   0.000125467  0.0426297     0.0427946     0.0429368     0.0428368     0.0426678\n",
       "mean_residual_deviance  0.00289669  1.15759e-05  0.00287751    0.00290646    0.00290414    0.00289489    0.00290044\n",
       "mse                     0.00289669  1.15759e-05  0.00287751    0.00290646    0.00290414    0.00289489    0.00290044\n",
       "null_deviance           81500.9     637.077      82443.1       81244.2       80866.9       81110.1       81840.3\n",
       "r2                      0.998742    1.58867e-05  0.99876       0.998732      0.99872       0.998745      0.998751\n",
       "residual_deviance       102.547     0.707453     102.235       103.037       103.506       101.758       102.197\n",
       "rmse                    0.0538208   0.00010764   0.0536425     0.0539116     0.0538901     0.0538042     0.0538558\n",
       "rmsle                   0.00893333  3.91671e-05  0.00893399    0.00897322    0.00887026    0.00895711    0.00893206\n",
       "\n",
       "[tips]\n",
       "Use `model.explain()` to inspect the model.\n",
       "--\n",
       "Use `h2o.display.toggle_user_tips()` to switch on/off this section."
      ]
     },
     "execution_count": 35,
     "metadata": {},
     "output_type": "execute_result"
    }
   ],
   "source": [
    "aml = H2OAutoML(max_models=20, seed=SEED, max_runtime_secs=3600, sort_metric='RMSE')\n",
    "aml.train(x=predictors, y=target, training_frame=train_h2o)"
   ]
  },
  {
   "cell_type": "code",
   "execution_count": 36,
   "id": "aa1fd304",
   "metadata": {},
   "outputs": [
    {
     "data": {
      "text/html": [
       "<table class='dataframe'>\n",
       "<thead>\n",
       "<tr><th>model_id                                              </th><th style=\"text-align: right;\">     rmse</th><th style=\"text-align: right;\">       mse</th><th style=\"text-align: right;\">      mae</th><th style=\"text-align: right;\">     rmsle</th><th style=\"text-align: right;\">  mean_residual_deviance</th></tr>\n",
       "</thead>\n",
       "<tbody>\n",
       "<tr><td>StackedEnsemble_AllModels_1_AutoML_1_20250103_93053   </td><td style=\"text-align: right;\">0.0538245</td><td style=\"text-align: right;\">0.00289707</td><td style=\"text-align: right;\">0.042776 </td><td style=\"text-align: right;\">0.0089339 </td><td style=\"text-align: right;\">              0.00289707</td></tr>\n",
       "<tr><td>XGBoost_3_AutoML_1_20250103_93053                     </td><td style=\"text-align: right;\">0.0545962</td><td style=\"text-align: right;\">0.00298075</td><td style=\"text-align: right;\">0.0433788</td><td style=\"text-align: right;\">0.0091466 </td><td style=\"text-align: right;\">              0.00298075</td></tr>\n",
       "<tr><td>StackedEnsemble_BestOfFamily_1_AutoML_1_20250103_93053</td><td style=\"text-align: right;\">0.0549795</td><td style=\"text-align: right;\">0.00302274</td><td style=\"text-align: right;\">0.0436426</td><td style=\"text-align: right;\">0.0091419 </td><td style=\"text-align: right;\">              0.00302274</td></tr>\n",
       "<tr><td>GBM_2_AutoML_1_20250103_93053                         </td><td style=\"text-align: right;\">0.0559731</td><td style=\"text-align: right;\">0.00313298</td><td style=\"text-align: right;\">0.0443611</td><td style=\"text-align: right;\">0.009269  </td><td style=\"text-align: right;\">              0.00313298</td></tr>\n",
       "<tr><td>GBM_3_AutoML_1_20250103_93053                         </td><td style=\"text-align: right;\">0.056123 </td><td style=\"text-align: right;\">0.00314979</td><td style=\"text-align: right;\">0.0444688</td><td style=\"text-align: right;\">0.00933504</td><td style=\"text-align: right;\">              0.00314979</td></tr>\n",
       "<tr><td>XGBoost_grid_1_AutoML_1_20250103_93053_model_2        </td><td style=\"text-align: right;\">0.0563477</td><td style=\"text-align: right;\">0.00317506</td><td style=\"text-align: right;\">0.0445818</td><td style=\"text-align: right;\">0.00942345</td><td style=\"text-align: right;\">              0.00317506</td></tr>\n",
       "<tr><td>GBM_1_AutoML_1_20250103_93053                         </td><td style=\"text-align: right;\">0.0565027</td><td style=\"text-align: right;\">0.00319256</td><td style=\"text-align: right;\">0.0448842</td><td style=\"text-align: right;\">0.00937493</td><td style=\"text-align: right;\">              0.00319256</td></tr>\n",
       "<tr><td>GBM_5_AutoML_1_20250103_93053                         </td><td style=\"text-align: right;\">0.0565096</td><td style=\"text-align: right;\">0.00319334</td><td style=\"text-align: right;\">0.0447609</td><td style=\"text-align: right;\">0.0093692 </td><td style=\"text-align: right;\">              0.00319334</td></tr>\n",
       "<tr><td>GBM_grid_1_AutoML_1_20250103_93053_model_2            </td><td style=\"text-align: right;\">0.0572408</td><td style=\"text-align: right;\">0.00327651</td><td style=\"text-align: right;\">0.0452866</td><td style=\"text-align: right;\">0.00945486</td><td style=\"text-align: right;\">              0.00327651</td></tr>\n",
       "<tr><td>XGBoost_2_AutoML_1_20250103_93053                     </td><td style=\"text-align: right;\">0.0575632</td><td style=\"text-align: right;\">0.00331353</td><td style=\"text-align: right;\">0.0454852</td><td style=\"text-align: right;\">0.00979415</td><td style=\"text-align: right;\">              0.00331353</td></tr>\n",
       "</tbody>\n",
       "</table><pre style='font-size: smaller; margin-bottom: 1em;'>[10 rows x 6 columns]</pre>"
      ],
      "text/plain": [
       "model_id                                                     rmse         mse        mae       rmsle    mean_residual_deviance\n",
       "------------------------------------------------------  ---------  ----------  ---------  ----------  ------------------------\n",
       "StackedEnsemble_AllModels_1_AutoML_1_20250103_93053     0.0538245  0.00289707  0.042776   0.0089339                 0.00289707\n",
       "XGBoost_3_AutoML_1_20250103_93053                       0.0545962  0.00298075  0.0433788  0.0091466                 0.00298075\n",
       "StackedEnsemble_BestOfFamily_1_AutoML_1_20250103_93053  0.0549795  0.00302274  0.0436426  0.0091419                 0.00302274\n",
       "GBM_2_AutoML_1_20250103_93053                           0.0559731  0.00313298  0.0443611  0.009269                  0.00313298\n",
       "GBM_3_AutoML_1_20250103_93053                           0.056123   0.00314979  0.0444688  0.00933504                0.00314979\n",
       "XGBoost_grid_1_AutoML_1_20250103_93053_model_2          0.0563477  0.00317506  0.0445818  0.00942345                0.00317506\n",
       "GBM_1_AutoML_1_20250103_93053                           0.0565027  0.00319256  0.0448842  0.00937493                0.00319256\n",
       "GBM_5_AutoML_1_20250103_93053                           0.0565096  0.00319334  0.0447609  0.0093692                 0.00319334\n",
       "GBM_grid_1_AutoML_1_20250103_93053_model_2              0.0572408  0.00327651  0.0452866  0.00945486                0.00327651\n",
       "XGBoost_2_AutoML_1_20250103_93053                       0.0575632  0.00331353  0.0454852  0.00979415                0.00331353\n",
       "[10 rows x 6 columns]\n"
      ]
     },
     "execution_count": 36,
     "metadata": {},
     "output_type": "execute_result"
    }
   ],
   "source": [
    "lb = aml.leaderboard\n",
    "lb.head()"
   ]
  },
  {
   "cell_type": "code",
   "execution_count": 41,
   "id": "1db9a55c",
   "metadata": {},
   "outputs": [
    {
     "name": "stdout",
     "output_type": "stream",
     "text": [
      "stackedensemble prediction progress: |"
     ]
    },
    {
     "name": "stdout",
     "output_type": "stream",
     "text": [
      "███████████████████████████████████████████| (done) 100%\n"
     ]
    },
    {
     "data": {
      "text/html": [
       "<div>\n",
       "<style scoped>\n",
       "    .dataframe tbody tr th:only-of-type {\n",
       "        vertical-align: middle;\n",
       "    }\n",
       "\n",
       "    .dataframe tbody tr th {\n",
       "        vertical-align: top;\n",
       "    }\n",
       "\n",
       "    .dataframe thead th {\n",
       "        text-align: right;\n",
       "    }\n",
       "</style>\n",
       "<table border=\"1\" class=\"dataframe\">\n",
       "  <thead>\n",
       "    <tr style=\"text-align: right;\">\n",
       "      <th></th>\n",
       "      <th>predict</th>\n",
       "    </tr>\n",
       "  </thead>\n",
       "  <tbody>\n",
       "    <tr>\n",
       "      <th>0</th>\n",
       "      <td>5.062378</td>\n",
       "    </tr>\n",
       "    <tr>\n",
       "      <th>1</th>\n",
       "      <td>6.761786</td>\n",
       "    </tr>\n",
       "    <tr>\n",
       "      <th>2</th>\n",
       "      <td>6.561698</td>\n",
       "    </tr>\n",
       "    <tr>\n",
       "      <th>3</th>\n",
       "      <td>5.943941</td>\n",
       "    </tr>\n",
       "    <tr>\n",
       "      <th>4</th>\n",
       "      <td>6.103047</td>\n",
       "    </tr>\n",
       "    <tr>\n",
       "      <th>...</th>\n",
       "      <td>...</td>\n",
       "    </tr>\n",
       "    <tr>\n",
       "      <th>98545</th>\n",
       "      <td>5.895812</td>\n",
       "    </tr>\n",
       "    <tr>\n",
       "      <th>98546</th>\n",
       "      <td>7.752683</td>\n",
       "    </tr>\n",
       "    <tr>\n",
       "      <th>98547</th>\n",
       "      <td>7.518138</td>\n",
       "    </tr>\n",
       "    <tr>\n",
       "      <th>98548</th>\n",
       "      <td>6.963615</td>\n",
       "    </tr>\n",
       "    <tr>\n",
       "      <th>98549</th>\n",
       "      <td>7.137131</td>\n",
       "    </tr>\n",
       "  </tbody>\n",
       "</table>\n",
       "<p>98550 rows × 1 columns</p>\n",
       "</div>"
      ],
      "text/plain": [
       "        predict\n",
       "0      5.062378\n",
       "1      6.761786\n",
       "2      6.561698\n",
       "3      5.943941\n",
       "4      6.103047\n",
       "...         ...\n",
       "98545  5.895812\n",
       "98546  7.752683\n",
       "98547  7.518138\n",
       "98548  6.963615\n",
       "98549  7.137131\n",
       "\n",
       "[98550 rows x 1 columns]"
      ]
     },
     "execution_count": 41,
     "metadata": {},
     "output_type": "execute_result"
    }
   ],
   "source": [
    "y_preds_h2o = aml.leader.predict(unlabeled_test)\n",
    "y_preds = y_preds_h2o.as_data_frame()\n",
    "y_preds"
   ]
  },
  {
   "cell_type": "code",
   "execution_count": 42,
   "id": "edbbd7fa",
   "metadata": {},
   "outputs": [
    {
     "data": {
      "text/html": [
       "<div>\n",
       "<style scoped>\n",
       "    .dataframe tbody tr th:only-of-type {\n",
       "        vertical-align: middle;\n",
       "    }\n",
       "\n",
       "    .dataframe tbody tr th {\n",
       "        vertical-align: top;\n",
       "    }\n",
       "\n",
       "    .dataframe thead th {\n",
       "        text-align: right;\n",
       "    }\n",
       "</style>\n",
       "<table border=\"1\" class=\"dataframe\">\n",
       "  <thead>\n",
       "    <tr style=\"text-align: right;\">\n",
       "      <th></th>\n",
       "      <th>predict</th>\n",
       "    </tr>\n",
       "  </thead>\n",
       "  <tbody>\n",
       "    <tr>\n",
       "      <th>0</th>\n",
       "      <td>156.965777</td>\n",
       "    </tr>\n",
       "    <tr>\n",
       "      <th>1</th>\n",
       "      <td>863.184343</td>\n",
       "    </tr>\n",
       "    <tr>\n",
       "      <th>2</th>\n",
       "      <td>706.471771</td>\n",
       "    </tr>\n",
       "    <tr>\n",
       "      <th>3</th>\n",
       "      <td>380.435255</td>\n",
       "    </tr>\n",
       "    <tr>\n",
       "      <th>4</th>\n",
       "      <td>446.218538</td>\n",
       "    </tr>\n",
       "    <tr>\n",
       "      <th>...</th>\n",
       "      <td>...</td>\n",
       "    </tr>\n",
       "    <tr>\n",
       "      <th>98545</th>\n",
       "      <td>362.511740</td>\n",
       "    </tr>\n",
       "    <tr>\n",
       "      <th>98546</th>\n",
       "      <td>2326.809650</td>\n",
       "    </tr>\n",
       "    <tr>\n",
       "      <th>98547</th>\n",
       "      <td>1840.136724</td>\n",
       "    </tr>\n",
       "    <tr>\n",
       "      <th>98548</th>\n",
       "      <td>1056.449195</td>\n",
       "    </tr>\n",
       "    <tr>\n",
       "      <th>98549</th>\n",
       "      <td>1256.814829</td>\n",
       "    </tr>\n",
       "  </tbody>\n",
       "</table>\n",
       "<p>98550 rows × 1 columns</p>\n",
       "</div>"
      ],
      "text/plain": [
       "           predict\n",
       "0       156.965777\n",
       "1       863.184343\n",
       "2       706.471771\n",
       "3       380.435255\n",
       "4       446.218538\n",
       "...            ...\n",
       "98545   362.511740\n",
       "98546  2326.809650\n",
       "98547  1840.136724\n",
       "98548  1056.449195\n",
       "98549  1256.814829\n",
       "\n",
       "[98550 rows x 1 columns]"
      ]
     },
     "execution_count": 42,
     "metadata": {},
     "output_type": "execute_result"
    }
   ],
   "source": [
    "y_preds['predict'] = np.expm1(y_preds['predict'])\n",
    "y_preds"
   ]
  },
  {
   "cell_type": "code",
   "execution_count": 43,
   "id": "6484f84a",
   "metadata": {
    "execution": {
     "iopub.execute_input": "2025-01-02T08:04:22.959573Z",
     "iopub.status.busy": "2025-01-02T08:04:22.959153Z",
     "iopub.status.idle": "2025-01-02T08:04:23.171135Z",
     "shell.execute_reply": "2025-01-02T08:04:23.169900Z"
    },
    "papermill": {
     "duration": 0.224959,
     "end_time": "2025-01-02T08:04:23.173315",
     "exception": false,
     "start_time": "2025-01-02T08:04:22.948356",
     "status": "completed"
    },
    "tags": []
   },
   "outputs": [
    {
     "name": "stdout",
     "output_type": "stream",
     "text": [
      "       id    num_sold\n",
      "0  230130  156.965777\n",
      "1  230131  863.184343\n",
      "2  230132  706.471771\n",
      "3  230133  380.435255\n",
      "4  230134  446.218538\n"
     ]
    }
   ],
   "source": [
    "# Save predictions for submission\n",
    "submission = pd.DataFrame({'id': test_data['id'], 'num_sold': y_preds['predict']})\n",
    "submission.to_csv('submission.csv', index=False)\n",
    "print(submission.head())"
   ]
  }
 ],
 "metadata": {
  "kaggle": {
   "accelerator": "none",
   "dataSources": [
    {
     "databundleVersionId": 10652996,
     "sourceId": 85723,
     "sourceType": "competition"
    },
    {
     "datasetId": 6218383,
     "sourceId": 10085759,
     "sourceType": "datasetVersion"
    }
   ],
   "dockerImageVersionId": 30822,
   "isGpuEnabled": false,
   "isInternetEnabled": true,
   "language": "python",
   "sourceType": "notebook"
  },
  "kernelspec": {
   "display_name": "base",
   "language": "python",
   "name": "python3"
  },
  "language_info": {
   "codemirror_mode": {
    "name": "ipython",
    "version": 3
   },
   "file_extension": ".py",
   "mimetype": "text/x-python",
   "name": "python",
   "nbconvert_exporter": "python",
   "pygments_lexer": "ipython3",
   "version": "3.12.7"
  },
  "papermill": {
   "default_parameters": {},
   "duration": 358.790363,
   "end_time": "2025-01-02T08:04:26.214090",
   "environment_variables": {},
   "exception": null,
   "input_path": "__notebook__.ipynb",
   "output_path": "__notebook__.ipynb",
   "parameters": {},
   "start_time": "2025-01-02T07:58:27.423727",
   "version": "2.6.0"
  }
 },
 "nbformat": 4,
 "nbformat_minor": 5
}
