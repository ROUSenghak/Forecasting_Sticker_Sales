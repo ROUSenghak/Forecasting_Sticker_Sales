{
 "cells": [
  {
   "cell_type": "markdown",
   "id": "e83e4054",
   "metadata": {
    "papermill": {
     "duration": 0.006471,
     "end_time": "2025-01-02T07:58:29.706656",
     "exception": false,
     "start_time": "2025-01-02T07:58:29.700185",
     "status": "completed"
    },
    "tags": []
   },
   "source": [
    "1. My contribution mainly lies in extracting holiday features. \n",
    "2. I used Fitter to view the data distribution of the target column and used statistical indicators to check the deviation between predicted values and true values.\n",
    "3. I haven't programmed for many years. I have been learning Python for the past few months, but I am still not very proficient. I have submitted many times. The parameters are not optimal, but I haven't submitted any more times today. If it is helpful, please upvote. Thanks to everyone."
   ]
  },
  {
   "cell_type": "code",
   "execution_count": 29,
   "id": "ef8d0a27",
   "metadata": {
    "execution": {
     "iopub.execute_input": "2025-01-02T07:58:29.719743Z",
     "iopub.status.busy": "2025-01-02T07:58:29.719319Z",
     "iopub.status.idle": "2025-01-02T07:59:04.060767Z",
     "shell.execute_reply": "2025-01-02T07:59:04.059345Z"
    },
    "papermill": {
     "duration": 34.350312,
     "end_time": "2025-01-02T07:59:04.062983",
     "exception": false,
     "start_time": "2025-01-02T07:58:29.712671",
     "status": "completed"
    },
    "tags": []
   },
   "outputs": [],
   "source": [
    "!pip install -U --q /home/onyxia/work/Forecasting_Sticker_Sales/fitter-1.7.1-py3-none-any.whl\n",
    "!pip install -U --q pycountry"
   ]
  },
  {
   "cell_type": "code",
   "execution_count": 30,
   "id": "b529de14",
   "metadata": {
    "execution": {
     "iopub.execute_input": "2025-01-02T07:59:04.077245Z",
     "iopub.status.busy": "2025-01-02T07:59:04.076822Z",
     "iopub.status.idle": "2025-01-02T07:59:15.414244Z",
     "shell.execute_reply": "2025-01-02T07:59:15.413038Z"
    },
    "papermill": {
     "duration": 11.34692,
     "end_time": "2025-01-02T07:59:15.416397",
     "exception": false,
     "start_time": "2025-01-02T07:59:04.069477",
     "status": "completed"
    },
    "tags": []
   },
   "outputs": [],
   "source": [
    "import pandas as pd\n",
    "import numpy as np\n",
    "import matplotlib.pyplot as plt\n",
    "import seaborn as sns\n",
    "import warnings\n",
    "warnings.filterwarnings('ignore')\n",
    "import lightgbm as lgb\n",
    "from catboost import CatBoostRegressor, Pool\n",
    "\n",
    "from sklearn.model_selection import KFold\n",
    "from sklearn.metrics import mean_absolute_percentage_error\n",
    "import holidays\n",
    "import pycountry\n",
    "\n",
    "from fitter import Fitter\n",
    "from scipy import stats\n",
    "\n",
    "SEED = 42\n",
    "n_splits = 5\n",
    "n_estimators=1000\n",
    "early_stopping_rounds = 100\n",
    "FE_holidays = True"
   ]
  },
  {
   "cell_type": "code",
   "execution_count": 31,
   "id": "61563ffa",
   "metadata": {
    "execution": {
     "iopub.execute_input": "2025-01-02T07:59:15.431038Z",
     "iopub.status.busy": "2025-01-02T07:59:15.430207Z",
     "iopub.status.idle": "2025-01-02T07:59:15.942246Z",
     "shell.execute_reply": "2025-01-02T07:59:15.940994Z"
    },
    "papermill": {
     "duration": 0.52161,
     "end_time": "2025-01-02T07:59:15.944433",
     "exception": false,
     "start_time": "2025-01-02T07:59:15.422823",
     "status": "completed"
    },
    "tags": []
   },
   "outputs": [
    {
     "name": "stdout",
     "output_type": "stream",
     "text": [
      "train_data shape : (230130, 6)\n",
      "test_data shape : (98550, 5)\n",
      "data shape : (98550, 2)\n"
     ]
    }
   ],
   "source": [
    "train_data = pd.read_csv(r\"/home/onyxia/work/Forecasting_Sticker_Sales/train.csv\")\n",
    "test_data = pd.read_csv(r\"/home/onyxia/work/Forecasting_Sticker_Sales/test.csv\")\n",
    "data = pd.read_csv(r\"/home/onyxia/work/Forecasting_Sticker_Sales/sample_submission.csv\")\n",
    "\n",
    "print(\"train_data shape :\",train_data.shape)\n",
    "print(\"test_data shape :\",test_data.shape)\n",
    "print(\"data shape :\",data.shape)"
   ]
  },
  {
   "cell_type": "code",
   "execution_count": 32,
   "id": "88875939",
   "metadata": {
    "execution": {
     "iopub.execute_input": "2025-01-02T07:59:15.958695Z",
     "iopub.status.busy": "2025-01-02T07:59:15.958342Z",
     "iopub.status.idle": "2025-01-02T07:59:15.979134Z",
     "shell.execute_reply": "2025-01-02T07:59:15.978049Z"
    },
    "papermill": {
     "duration": 0.030081,
     "end_time": "2025-01-02T07:59:15.981100",
     "exception": false,
     "start_time": "2025-01-02T07:59:15.951019",
     "status": "completed"
    },
    "tags": []
   },
   "outputs": [
    {
     "data": {
      "text/html": [
       "<div>\n",
       "<style scoped>\n",
       "    .dataframe tbody tr th:only-of-type {\n",
       "        vertical-align: middle;\n",
       "    }\n",
       "\n",
       "    .dataframe tbody tr th {\n",
       "        vertical-align: top;\n",
       "    }\n",
       "\n",
       "    .dataframe thead th {\n",
       "        text-align: right;\n",
       "    }\n",
       "</style>\n",
       "<table border=\"1\" class=\"dataframe\">\n",
       "  <thead>\n",
       "    <tr style=\"text-align: right;\">\n",
       "      <th></th>\n",
       "      <th>id</th>\n",
       "      <th>date</th>\n",
       "      <th>country</th>\n",
       "      <th>store</th>\n",
       "      <th>product</th>\n",
       "      <th>num_sold</th>\n",
       "    </tr>\n",
       "  </thead>\n",
       "  <tbody>\n",
       "    <tr>\n",
       "      <th>0</th>\n",
       "      <td>0</td>\n",
       "      <td>2010-01-01</td>\n",
       "      <td>Canada</td>\n",
       "      <td>Discount Stickers</td>\n",
       "      <td>Holographic Goose</td>\n",
       "      <td>NaN</td>\n",
       "    </tr>\n",
       "    <tr>\n",
       "      <th>1</th>\n",
       "      <td>1</td>\n",
       "      <td>2010-01-01</td>\n",
       "      <td>Canada</td>\n",
       "      <td>Discount Stickers</td>\n",
       "      <td>Kaggle</td>\n",
       "      <td>973.0</td>\n",
       "    </tr>\n",
       "    <tr>\n",
       "      <th>2</th>\n",
       "      <td>2</td>\n",
       "      <td>2010-01-01</td>\n",
       "      <td>Canada</td>\n",
       "      <td>Discount Stickers</td>\n",
       "      <td>Kaggle Tiers</td>\n",
       "      <td>906.0</td>\n",
       "    </tr>\n",
       "    <tr>\n",
       "      <th>3</th>\n",
       "      <td>3</td>\n",
       "      <td>2010-01-01</td>\n",
       "      <td>Canada</td>\n",
       "      <td>Discount Stickers</td>\n",
       "      <td>Kerneler</td>\n",
       "      <td>423.0</td>\n",
       "    </tr>\n",
       "    <tr>\n",
       "      <th>4</th>\n",
       "      <td>4</td>\n",
       "      <td>2010-01-01</td>\n",
       "      <td>Canada</td>\n",
       "      <td>Discount Stickers</td>\n",
       "      <td>Kerneler Dark Mode</td>\n",
       "      <td>491.0</td>\n",
       "    </tr>\n",
       "  </tbody>\n",
       "</table>\n",
       "</div>"
      ],
      "text/plain": [
       "   id        date country              store             product  num_sold\n",
       "0   0  2010-01-01  Canada  Discount Stickers   Holographic Goose       NaN\n",
       "1   1  2010-01-01  Canada  Discount Stickers              Kaggle     973.0\n",
       "2   2  2010-01-01  Canada  Discount Stickers        Kaggle Tiers     906.0\n",
       "3   3  2010-01-01  Canada  Discount Stickers            Kerneler     423.0\n",
       "4   4  2010-01-01  Canada  Discount Stickers  Kerneler Dark Mode     491.0"
      ]
     },
     "execution_count": 32,
     "metadata": {},
     "output_type": "execute_result"
    }
   ],
   "source": [
    "train_data.head()"
   ]
  },
  {
   "cell_type": "code",
   "execution_count": 33,
   "id": "04ed46a4",
   "metadata": {
    "execution": {
     "iopub.execute_input": "2025-01-02T07:59:15.995793Z",
     "iopub.status.busy": "2025-01-02T07:59:15.995430Z",
     "iopub.status.idle": "2025-01-02T07:59:16.032840Z",
     "shell.execute_reply": "2025-01-02T07:59:16.031392Z"
    },
    "papermill": {
     "duration": 0.046978,
     "end_time": "2025-01-02T07:59:16.034768",
     "exception": false,
     "start_time": "2025-01-02T07:59:15.987790",
     "status": "completed"
    },
    "tags": []
   },
   "outputs": [
    {
     "data": {
      "text/html": [
       "<div>\n",
       "<style scoped>\n",
       "    .dataframe tbody tr th:only-of-type {\n",
       "        vertical-align: middle;\n",
       "    }\n",
       "\n",
       "    .dataframe tbody tr th {\n",
       "        vertical-align: top;\n",
       "    }\n",
       "\n",
       "    .dataframe thead th {\n",
       "        text-align: right;\n",
       "    }\n",
       "</style>\n",
       "<table border=\"1\" class=\"dataframe\">\n",
       "  <thead>\n",
       "    <tr style=\"text-align: right;\">\n",
       "      <th></th>\n",
       "      <th>id</th>\n",
       "      <th>num_sold</th>\n",
       "    </tr>\n",
       "  </thead>\n",
       "  <tbody>\n",
       "    <tr>\n",
       "      <th>count</th>\n",
       "      <td>230130.000000</td>\n",
       "      <td>221259.000000</td>\n",
       "    </tr>\n",
       "    <tr>\n",
       "      <th>mean</th>\n",
       "      <td>115064.500000</td>\n",
       "      <td>752.527382</td>\n",
       "    </tr>\n",
       "    <tr>\n",
       "      <th>std</th>\n",
       "      <td>66432.953062</td>\n",
       "      <td>690.165445</td>\n",
       "    </tr>\n",
       "    <tr>\n",
       "      <th>min</th>\n",
       "      <td>0.000000</td>\n",
       "      <td>5.000000</td>\n",
       "    </tr>\n",
       "    <tr>\n",
       "      <th>25%</th>\n",
       "      <td>57532.250000</td>\n",
       "      <td>219.000000</td>\n",
       "    </tr>\n",
       "    <tr>\n",
       "      <th>50%</th>\n",
       "      <td>115064.500000</td>\n",
       "      <td>605.000000</td>\n",
       "    </tr>\n",
       "    <tr>\n",
       "      <th>75%</th>\n",
       "      <td>172596.750000</td>\n",
       "      <td>1114.000000</td>\n",
       "    </tr>\n",
       "    <tr>\n",
       "      <th>max</th>\n",
       "      <td>230129.000000</td>\n",
       "      <td>5939.000000</td>\n",
       "    </tr>\n",
       "  </tbody>\n",
       "</table>\n",
       "</div>"
      ],
      "text/plain": [
       "                  id       num_sold\n",
       "count  230130.000000  221259.000000\n",
       "mean   115064.500000     752.527382\n",
       "std     66432.953062     690.165445\n",
       "min         0.000000       5.000000\n",
       "25%     57532.250000     219.000000\n",
       "50%    115064.500000     605.000000\n",
       "75%    172596.750000    1114.000000\n",
       "max    230129.000000    5939.000000"
      ]
     },
     "execution_count": 33,
     "metadata": {},
     "output_type": "execute_result"
    }
   ],
   "source": [
    "train_data.describe()"
   ]
  },
  {
   "cell_type": "code",
   "execution_count": 34,
   "id": "2b326089",
   "metadata": {
    "execution": {
     "iopub.execute_input": "2025-01-02T07:59:16.050154Z",
     "iopub.status.busy": "2025-01-02T07:59:16.049655Z",
     "iopub.status.idle": "2025-01-02T07:59:16.100695Z",
     "shell.execute_reply": "2025-01-02T07:59:16.099576Z"
    },
    "papermill": {
     "duration": 0.061027,
     "end_time": "2025-01-02T07:59:16.102566",
     "exception": false,
     "start_time": "2025-01-02T07:59:16.041539",
     "status": "completed"
    },
    "tags": []
   },
   "outputs": [
    {
     "data": {
      "text/plain": [
       "num_sold    8871\n",
       "id             0\n",
       "date           0\n",
       "country        0\n",
       "store          0\n",
       "product        0\n",
       "dtype: int64"
      ]
     },
     "execution_count": 34,
     "metadata": {},
     "output_type": "execute_result"
    }
   ],
   "source": [
    "train_data.isna().sum().sort_values(ascending=False)"
   ]
  },
  {
   "cell_type": "code",
   "execution_count": 35,
   "id": "d59d6ea4",
   "metadata": {
    "execution": {
     "iopub.execute_input": "2025-01-02T07:59:16.117524Z",
     "iopub.status.busy": "2025-01-02T07:59:16.117141Z",
     "iopub.status.idle": "2025-01-02T07:59:16.145546Z",
     "shell.execute_reply": "2025-01-02T07:59:16.144514Z"
    },
    "papermill": {
     "duration": 0.037998,
     "end_time": "2025-01-02T07:59:16.147342",
     "exception": false,
     "start_time": "2025-01-02T07:59:16.109344",
     "status": "completed"
    },
    "tags": []
   },
   "outputs": [
    {
     "data": {
      "text/plain": [
       "country\n",
       "Canada       38355\n",
       "Finland      38355\n",
       "Italy        38355\n",
       "Kenya        38355\n",
       "Norway       38355\n",
       "Singapore    38355\n",
       "Name: count, dtype: int64"
      ]
     },
     "execution_count": 35,
     "metadata": {},
     "output_type": "execute_result"
    }
   ],
   "source": [
    "train_data['country'].value_counts()"
   ]
  },
  {
   "cell_type": "code",
   "execution_count": 36,
   "id": "a5085c25",
   "metadata": {
    "execution": {
     "iopub.execute_input": "2025-01-02T07:59:16.162462Z",
     "iopub.status.busy": "2025-01-02T07:59:16.162094Z",
     "iopub.status.idle": "2025-01-02T07:59:16.340365Z",
     "shell.execute_reply": "2025-01-02T07:59:16.338842Z"
    },
    "papermill": {
     "duration": 0.188108,
     "end_time": "2025-01-02T07:59:16.342469",
     "exception": false,
     "start_time": "2025-01-02T07:59:16.154361",
     "status": "completed"
    },
    "tags": []
   },
   "outputs": [
    {
     "name": "stdout",
     "output_type": "stream",
     "text": [
      "train_data shape : (221259, 6)\n"
     ]
    }
   ],
   "source": [
    "train_data = train_data.drop_duplicates()\n",
    "train_data = train_data.dropna()\n",
    "print(\"train_data shape :\",train_data.shape)"
   ]
  },
  {
   "cell_type": "code",
   "execution_count": 37,
   "id": "75211e20",
   "metadata": {
    "execution": {
     "iopub.execute_input": "2025-01-02T07:59:16.360785Z",
     "iopub.status.busy": "2025-01-02T07:59:16.360413Z",
     "iopub.status.idle": "2025-01-02T07:59:16.372049Z",
     "shell.execute_reply": "2025-01-02T07:59:16.370897Z"
    },
    "papermill": {
     "duration": 0.023262,
     "end_time": "2025-01-02T07:59:16.373627",
     "exception": false,
     "start_time": "2025-01-02T07:59:16.350365",
     "status": "completed"
    },
    "tags": []
   },
   "outputs": [
    {
     "data": {
      "text/html": [
       "<div>\n",
       "<style scoped>\n",
       "    .dataframe tbody tr th:only-of-type {\n",
       "        vertical-align: middle;\n",
       "    }\n",
       "\n",
       "    .dataframe tbody tr th {\n",
       "        vertical-align: top;\n",
       "    }\n",
       "\n",
       "    .dataframe thead th {\n",
       "        text-align: right;\n",
       "    }\n",
       "</style>\n",
       "<table border=\"1\" class=\"dataframe\">\n",
       "  <thead>\n",
       "    <tr style=\"text-align: right;\">\n",
       "      <th></th>\n",
       "      <th>id</th>\n",
       "      <th>date</th>\n",
       "      <th>country</th>\n",
       "      <th>store</th>\n",
       "      <th>product</th>\n",
       "    </tr>\n",
       "  </thead>\n",
       "  <tbody>\n",
       "    <tr>\n",
       "      <th>0</th>\n",
       "      <td>230130</td>\n",
       "      <td>2017-01-01</td>\n",
       "      <td>Canada</td>\n",
       "      <td>Discount Stickers</td>\n",
       "      <td>Holographic Goose</td>\n",
       "    </tr>\n",
       "    <tr>\n",
       "      <th>1</th>\n",
       "      <td>230131</td>\n",
       "      <td>2017-01-01</td>\n",
       "      <td>Canada</td>\n",
       "      <td>Discount Stickers</td>\n",
       "      <td>Kaggle</td>\n",
       "    </tr>\n",
       "    <tr>\n",
       "      <th>2</th>\n",
       "      <td>230132</td>\n",
       "      <td>2017-01-01</td>\n",
       "      <td>Canada</td>\n",
       "      <td>Discount Stickers</td>\n",
       "      <td>Kaggle Tiers</td>\n",
       "    </tr>\n",
       "    <tr>\n",
       "      <th>3</th>\n",
       "      <td>230133</td>\n",
       "      <td>2017-01-01</td>\n",
       "      <td>Canada</td>\n",
       "      <td>Discount Stickers</td>\n",
       "      <td>Kerneler</td>\n",
       "    </tr>\n",
       "    <tr>\n",
       "      <th>4</th>\n",
       "      <td>230134</td>\n",
       "      <td>2017-01-01</td>\n",
       "      <td>Canada</td>\n",
       "      <td>Discount Stickers</td>\n",
       "      <td>Kerneler Dark Mode</td>\n",
       "    </tr>\n",
       "  </tbody>\n",
       "</table>\n",
       "</div>"
      ],
      "text/plain": [
       "       id        date country              store             product\n",
       "0  230130  2017-01-01  Canada  Discount Stickers   Holographic Goose\n",
       "1  230131  2017-01-01  Canada  Discount Stickers              Kaggle\n",
       "2  230132  2017-01-01  Canada  Discount Stickers        Kaggle Tiers\n",
       "3  230133  2017-01-01  Canada  Discount Stickers            Kerneler\n",
       "4  230134  2017-01-01  Canada  Discount Stickers  Kerneler Dark Mode"
      ]
     },
     "execution_count": 37,
     "metadata": {},
     "output_type": "execute_result"
    }
   ],
   "source": [
    "test_data.head()"
   ]
  },
  {
   "cell_type": "code",
   "execution_count": 38,
   "id": "c7428cd5",
   "metadata": {
    "execution": {
     "iopub.execute_input": "2025-01-02T07:59:16.389399Z",
     "iopub.status.busy": "2025-01-02T07:59:16.388962Z",
     "iopub.status.idle": "2025-01-02T07:59:16.417212Z",
     "shell.execute_reply": "2025-01-02T07:59:16.415769Z"
    },
    "papermill": {
     "duration": 0.038247,
     "end_time": "2025-01-02T07:59:16.419078",
     "exception": false,
     "start_time": "2025-01-02T07:59:16.380831",
     "status": "completed"
    },
    "tags": []
   },
   "outputs": [
    {
     "data": {
      "text/plain": [
       "id         0\n",
       "date       0\n",
       "country    0\n",
       "store      0\n",
       "product    0\n",
       "dtype: int64"
      ]
     },
     "execution_count": 38,
     "metadata": {},
     "output_type": "execute_result"
    }
   ],
   "source": [
    "test_data.isna().sum().sort_values(ascending=False)"
   ]
  },
  {
   "cell_type": "code",
   "execution_count": 39,
   "id": "6dfccd4f",
   "metadata": {
    "execution": {
     "iopub.execute_input": "2025-01-02T07:59:16.435427Z",
     "iopub.status.busy": "2025-01-02T07:59:16.435064Z",
     "iopub.status.idle": "2025-01-02T07:59:16.746129Z",
     "shell.execute_reply": "2025-01-02T07:59:16.744982Z"
    },
    "papermill": {
     "duration": 0.321476,
     "end_time": "2025-01-02T07:59:16.748298",
     "exception": false,
     "start_time": "2025-01-02T07:59:16.426822",
     "status": "completed"
    },
    "tags": []
   },
   "outputs": [],
   "source": [
    "train_data['date'] = pd.to_datetime(train_data['date'])\n",
    "test_data['date'] = pd.to_datetime(test_data['date'])\n",
    "\n",
    "train_data['Year'] = train_data['date'].dt.year\n",
    "train_data['Quarter'] = train_data['date'].dt.quarter\n",
    "train_data['Month'] = train_data['date'].dt.month\n",
    "train_data['Day'] = train_data['date'].dt.day\n",
    "train_data['day_of_week'] = train_data['date'].dt.day_name()\n",
    "train_data['week_of_year'] = train_data['date'].dt.isocalendar().week\n",
    "\n",
    "train_data['day_sin'] = np.sin(2 * np.pi * train_data['Day'] / 365.0)\n",
    "train_data['day_cos'] = np.cos(2 * np.pi * train_data['Day'] / 365.0)\n",
    "train_data['month_sin'] = np.sin(2 * np.pi * train_data['Month'] / 12.0)\n",
    "train_data['month_cos'] = np.cos(2 * np.pi * train_data['Month'] / 12.0)\n",
    "train_data['year_sin'] = np.sin(2 * np.pi * train_data['Year'] / 7.0)\n",
    "train_data['year_cos'] = np.cos(2 * np.pi * train_data['Year'] / 7.0)\n",
    "train_data['Group']=(train_data['Year']-2010)*48+train_data['Month']*4+train_data['Day']//7\n",
    "\n",
    "test_data['Year'] = test_data['date'].dt.year\n",
    "test_data['Quarter'] = test_data['date'].dt.quarter\n",
    "test_data['Month'] = test_data['date'].dt.month\n",
    "test_data['Day'] = test_data['date'].dt.day\n",
    "test_data['day_of_week'] = test_data['date'].dt.day_name()\n",
    "test_data['week_of_year'] = test_data['date'].dt.isocalendar().week\n",
    "\n",
    "test_data['day_sin'] = np.sin(2 * np.pi * test_data['Day'] / 365.0)\n",
    "test_data['day_cos'] = np.cos(2 * np.pi * test_data['Day'] / 365.0)\n",
    "test_data['month_sin'] = np.sin(2 * np.pi * test_data['Month'] / 12.0)\n",
    "test_data['month_cos'] = np.cos(2 * np.pi * test_data['Month'] / 12.0)\n",
    "test_data['year_sin'] = np.sin(2 * np.pi * test_data['Year'] / 7.0)\n",
    "test_data['year_cos'] = np.cos(2 * np.pi * test_data['Year'] / 7.0)\n",
    "test_data['Group']=(test_data['Year']-2010)*48+test_data['Month']*4+test_data['Day']//7\n",
    "\n"
   ]
  },
  {
   "cell_type": "code",
   "execution_count": 40,
   "id": "8210ca8c",
   "metadata": {
    "execution": {
     "iopub.execute_input": "2025-01-02T07:59:16.765008Z",
     "iopub.status.busy": "2025-01-02T07:59:16.764603Z",
     "iopub.status.idle": "2025-01-02T07:59:17.157128Z",
     "shell.execute_reply": "2025-01-02T07:59:17.156104Z"
    },
    "papermill": {
     "duration": 0.402912,
     "end_time": "2025-01-02T07:59:17.159057",
     "exception": false,
     "start_time": "2025-01-02T07:59:16.756145",
     "status": "completed"
    },
    "tags": []
   },
   "outputs": [],
   "source": [
    "train_data['Quarter'] = train_data['Quarter'].astype('str')\n",
    "train_data['Month'] = train_data['Month'].astype('str')\n",
    "train_data['day_of_week'] = train_data['day_of_week'].astype('str')\n",
    "train_data['week_of_year'] = train_data['week_of_year'].astype('str')\n",
    "\n",
    "test_data['Quarter'] = test_data['Quarter'].astype('str')\n",
    "test_data['Month'] = test_data['Month'].astype('str')\n",
    "test_data['day_of_week'] = test_data['day_of_week'].astype('str')\n",
    "test_data['week_of_year'] = test_data['week_of_year'].astype('str')"
   ]
  },
  {
   "cell_type": "code",
   "execution_count": 41,
   "id": "d473b270",
   "metadata": {
    "execution": {
     "iopub.execute_input": "2025-01-02T07:59:17.174800Z",
     "iopub.status.busy": "2025-01-02T07:59:17.174402Z",
     "iopub.status.idle": "2025-01-02T08:02:50.957147Z",
     "shell.execute_reply": "2025-01-02T08:02:50.955799Z"
    },
    "papermill": {
     "duration": 213.793092,
     "end_time": "2025-01-02T08:02:50.959465",
     "exception": false,
     "start_time": "2025-01-02T07:59:17.166373",
     "status": "completed"
    },
    "tags": []
   },
   "outputs": [],
   "source": [
    "def get_holiday_name(country_code, date_obj):\n",
    "    country_holiday = holidays.CountryHoliday(country_code, years=date_obj.year)\n",
    "    return country_holiday.get(date_obj)\n",
    "\n",
    "def get_country_code(country_name):\n",
    "    try:\n",
    "        country = pycountry.countries.get(name=country_name)\n",
    "        return country.alpha_2  \n",
    "    except KeyError:\n",
    "        print(f\"Unknown Country: {country_name}\")\n",
    "        return None\n",
    "\n",
    "def get_holiday_for_row(row):\n",
    "    country_code = get_country_code(row['country'])\n",
    "    if country_code is None:\n",
    "        return 'Unknown Country'\n",
    "    \n",
    "    try:\n",
    "        date_obj = row['date']\n",
    "    except ValueError:\n",
    "        print(f\"Invalid Date: {row['date']}\")\n",
    "        return 'Invalid Date'\n",
    "    \n",
    "    return get_holiday_name(country_code, date_obj)\n",
    "\n",
    "if FE_holidays:\n",
    "    train_data['holidays_name'] = train_data.apply(get_holiday_for_row, axis=1)\n",
    "    test_data['holidays_name'] = test_data.apply(get_holiday_for_row, axis=1)"
   ]
  },
  {
   "cell_type": "code",
   "execution_count": 42,
   "id": "8fd5cb87",
   "metadata": {
    "execution": {
     "iopub.execute_input": "2025-01-02T08:02:50.975579Z",
     "iopub.status.busy": "2025-01-02T08:02:50.975219Z",
     "iopub.status.idle": "2025-01-02T08:02:50.984570Z",
     "shell.execute_reply": "2025-01-02T08:02:50.983340Z"
    },
    "papermill": {
     "duration": 0.018959,
     "end_time": "2025-01-02T08:02:50.986286",
     "exception": false,
     "start_time": "2025-01-02T08:02:50.967327",
     "status": "completed"
    },
    "tags": []
   },
   "outputs": [
    {
     "name": "stdout",
     "output_type": "stream",
     "text": [
      "holidays_name\n",
      "New Year's Day                                 511\n",
      "Christmas Day                                  510\n",
      "Good Friday                                    500\n",
      "Easter Monday                                  302\n",
      "Labor Day                                      300\n",
      "Second Day of Christmas                        210\n",
      "Chinese New Year                               210\n",
      "Easter Sunday                                  210\n",
      "Whit Sunday                                    210\n",
      "Ascension Day                                  195\n",
      "Independence Day                               105\n",
      "Midsummer Eve                                  105\n",
      "Midsummer Day                                  105\n",
      "Christmas Eve                                  105\n",
      "Eid al-Fitr                                    105\n",
      "National Day                                   105\n",
      "Assunzione della Vergine                       105\n",
      "Eid al-Adha                                    105\n",
      "Festa della Repubblica                         105\n",
      "Tutti i Santi                                  105\n",
      "Deepavali                                      105\n",
      "All Saints' Day                                105\n",
      "Capodanno                                      105\n",
      "Natale                                         105\n",
      "Vesak Day                                      105\n",
      "Whit Monday                                    105\n",
      "Festa dei Lavoratori                           105\n",
      "May Day                                        105\n",
      "Santo Stefano                                  105\n",
      "Pasqua di Resurrezione                         105\n",
      "Maundy Thursday                                105\n",
      "Epifania del Signore                           105\n",
      "Epiphany                                       105\n",
      "Immacolata Concezione                          105\n",
      "Christmas Day (observed)                       100\n",
      "Boxing Day                                      96\n",
      "Jamhuri Day                                     95\n",
      "Mashujaa Day                                    94\n",
      "Labour Day                                      92\n",
      "Constitution Day                                90\n",
      "Festa della Liberazione                         90\n",
      "Lunedì dell'Angelo                              90\n",
      "Madaraka Day                                    89\n",
      "Canada Day                                      88\n",
      "New Year's Day (observed)                       57\n",
      "Chinese New Year (observed)                     30\n",
      "Labor Day (observed)                            30\n",
      "Polling Day                                     30\n",
      "Eid al-Adha (observed)                          30\n",
      "Labour Day (observed)                           26\n",
      "Festa della Liberazione; Lunedì dell'Angelo     15\n",
      "Ascension Day; Constitution Day                 15\n",
      "SG50 Public Holiday                             15\n",
      "Eid al-Fitr (observed)                          15\n",
      "National Day (observed)                         15\n",
      "Anniversario dell'Unità d'Italia                15\n",
      "Mashujaa Day (observed)                         14\n",
      "Boxing Day (observed)                           14\n",
      "Madaraka Day (observed)                         13\n",
      "Jamhuri Day (observed)                          12\n",
      "Name: count, dtype: int64\n"
     ]
    }
   ],
   "source": [
    "print(train_data['holidays_name'].value_counts() )\n"
   ]
  },
  {
   "cell_type": "code",
   "execution_count": 43,
   "id": "9a85156f",
   "metadata": {
    "execution": {
     "iopub.execute_input": "2025-01-02T08:02:51.002413Z",
     "iopub.status.busy": "2025-01-02T08:02:51.002024Z",
     "iopub.status.idle": "2025-01-02T08:02:51.076280Z",
     "shell.execute_reply": "2025-01-02T08:02:51.075200Z"
    },
    "papermill": {
     "duration": 0.084411,
     "end_time": "2025-01-02T08:02:51.078145",
     "exception": false,
     "start_time": "2025-01-02T08:02:50.993734",
     "status": "completed"
    },
    "tags": []
   },
   "outputs": [],
   "source": [
    "train_data.drop('date',axis=1,inplace=True)\n",
    "test_data.drop('date',axis=1,inplace=True)"
   ]
  },
  {
   "cell_type": "code",
   "execution_count": 44,
   "id": "a115480b",
   "metadata": {
    "execution": {
     "iopub.execute_input": "2025-01-02T08:02:51.094016Z",
     "iopub.status.busy": "2025-01-02T08:02:51.093612Z",
     "iopub.status.idle": "2025-01-02T08:02:51.349735Z",
     "shell.execute_reply": "2025-01-02T08:02:51.348421Z"
    },
    "papermill": {
     "duration": 0.266071,
     "end_time": "2025-01-02T08:02:51.351521",
     "exception": false,
     "start_time": "2025-01-02T08:02:51.085450",
     "status": "completed"
    },
    "tags": []
   },
   "outputs": [
    {
     "name": "stdout",
     "output_type": "stream",
     "text": [
      "<class 'pandas.core.frame.DataFrame'>\n",
      "Index: 221259 entries, 1 to 230129\n",
      "Data columns (total 19 columns):\n",
      " #   Column         Non-Null Count   Dtype  \n",
      "---  ------         --------------   -----  \n",
      " 0   id             221259 non-null  int64  \n",
      " 1   country        221259 non-null  object \n",
      " 2   store          221259 non-null  object \n",
      " 3   product        221259 non-null  object \n",
      " 4   num_sold       221259 non-null  float64\n",
      " 5   Year           221259 non-null  int32  \n",
      " 6   Quarter        221259 non-null  object \n",
      " 7   Month          221259 non-null  object \n",
      " 8   Day            221259 non-null  int32  \n",
      " 9   day_of_week    221259 non-null  object \n",
      " 10  week_of_year   221259 non-null  object \n",
      " 11  day_sin        221259 non-null  float64\n",
      " 12  day_cos        221259 non-null  float64\n",
      " 13  month_sin      221259 non-null  float64\n",
      " 14  month_cos      221259 non-null  float64\n",
      " 15  year_sin       221259 non-null  float64\n",
      " 16  year_cos       221259 non-null  float64\n",
      " 17  Group          221259 non-null  int32  \n",
      " 18  holidays_name  6948 non-null    object \n",
      "dtypes: float64(7), int32(3), int64(1), object(8)\n",
      "memory usage: 31.2+ MB\n",
      "None\n",
      "num_cols: ['Day', 'Group', 'Year', 'day_cos', 'day_sin', 'month_cos', 'month_sin', 'year_cos', 'year_sin']\n",
      "cat_cols: ['country', 'store', 'product', 'Quarter', 'Month', 'day_of_week', 'week_of_year', 'holidays_name']\n"
     ]
    }
   ],
   "source": [
    "print(train_data.info())\n",
    "\n",
    "train_data = train_data.drop('id', axis = 1)\n",
    "num_cols = list(train_data.select_dtypes(exclude=['object']).columns.difference(['num_sold']))\n",
    "cat_cols = list(train_data.select_dtypes(include=['object']).columns)\n",
    "\n",
    "num_cols_test = list(test_data.select_dtypes(exclude=['object']).columns.difference(['id']))\n",
    "cat_cols_test = list(test_data.select_dtypes(include=['object']).columns)\n",
    "\n",
    "print('num_cols:',num_cols)\n",
    "print('cat_cols:',cat_cols)"
   ]
  },
  {
   "cell_type": "code",
   "execution_count": 45,
   "id": "f61ac9d2",
   "metadata": {
    "execution": {
     "iopub.execute_input": "2025-01-02T08:02:51.367781Z",
     "iopub.status.busy": "2025-01-02T08:02:51.367412Z",
     "iopub.status.idle": "2025-01-02T08:02:51.881994Z",
     "shell.execute_reply": "2025-01-02T08:02:51.880840Z"
    },
    "papermill": {
     "duration": 0.524837,
     "end_time": "2025-01-02T08:02:51.884000",
     "exception": false,
     "start_time": "2025-01-02T08:02:51.359163",
     "status": "completed"
    },
    "tags": []
   },
   "outputs": [],
   "source": [
    "from sklearn.preprocessing import LabelEncoder\n",
    "# Initialize LabelEncoder\n",
    "label_encoders = {col: LabelEncoder() for col in cat_cols}\n",
    "\n",
    "# Apply LabelEncoder to each categorical column\n",
    "for col in cat_cols:\n",
    "    combined_data = pd.concat([train_data[col], test_data[col]])\n",
    "    le = LabelEncoder()\n",
    "    le.fit(combined_data)\n",
    "    train_data[col] = le.transform(train_data[col])\n",
    "    test_data[col] = le.transform(test_data[col])\n",
    "    "
   ]
  },
  {
   "cell_type": "code",
   "execution_count": 46,
   "id": "9c253bc9",
   "metadata": {
    "execution": {
     "iopub.execute_input": "2025-01-02T08:02:51.900212Z",
     "iopub.status.busy": "2025-01-02T08:02:51.899797Z",
     "iopub.status.idle": "2025-01-02T08:03:02.447021Z",
     "shell.execute_reply": "2025-01-02T08:03:02.445309Z"
    },
    "papermill": {
     "duration": 10.558143,
     "end_time": "2025-01-02T08:03:02.449664",
     "exception": false,
     "start_time": "2025-01-02T08:02:51.891521",
     "status": "completed"
    },
    "tags": []
   },
   "outputs": [
    {
     "name": "stderr",
     "output_type": "stream",
     "text": [
      "2025-01-02 22:44:37.577 | INFO     | fitter.fitter:_fit_single_distribution:333 - Fitted norm distribution with error=6e-06)\n",
      "2025-01-02 22:44:38.152 | INFO     | fitter.fitter:_fit_single_distribution:333 - Fitted expon distribution with error=3e-06)\n",
      "2025-01-02 22:44:38.184 | INFO     | fitter.fitter:_fit_single_distribution:333 - Fitted laplace distribution with error=6e-06)\n",
      "2025-01-02 22:44:38.394 | INFO     | fitter.fitter:_fit_single_distribution:333 - Fitted lognorm distribution with error=4e-06)\n",
      "2025-01-02 22:44:42.114 | INFO     | fitter.fitter:_fit_single_distribution:333 - Fitted gamma distribution with error=3e-06)\n"
     ]
    },
    {
     "name": "stdout",
     "output_type": "stream",
     "text": [
      "Distribution of original training data:\n"
     ]
    },
    {
     "data": {
      "image/png": "[encoded data removed]",
      "text/plain": [
       "<Figure size 640x480 with 1 Axes>"
      ]
     },
     "metadata": {},
     "output_type": "display_data"
    }
   ],
   "source": [
    "f = Fitter(train_data['num_sold'], distributions=['norm', 'lognorm', 'laplace', 'expon', 'gamma'])\n",
    "f.fit()\n",
    "print('Distribution of original training data:')\n",
    "f.summary()\n",
    "lognorm_params = f.fitted_param['lognorm']"
   ]
  },
  {
   "cell_type": "code",
   "execution_count": 47,
   "id": "8dc8cf9a",
   "metadata": {
    "execution": {
     "iopub.execute_input": "2025-01-02T08:03:02.470210Z",
     "iopub.status.busy": "2025-01-02T08:03:02.469655Z",
     "iopub.status.idle": "2025-01-02T08:03:02.612629Z",
     "shell.execute_reply": "2025-01-02T08:03:02.611215Z"
    },
    "papermill": {
     "duration": 0.155626,
     "end_time": "2025-01-02T08:03:02.614997",
     "exception": false,
     "start_time": "2025-01-02T08:03:02.459371",
     "status": "completed"
    },
    "tags": []
   },
   "outputs": [],
   "source": [
    "from sklearn.model_selection import train_test_split\n",
    "train_data['num_sold'] = np.log1p(train_data['num_sold'])\n",
    "X = train_data.drop(['num_sold'], axis=1)\n",
    "y = train_data['num_sold']\n",
    "test = test_data.drop(['id'],axis=1)\n",
    "\n",
    "# Split datainto training set and test set\n",
    "X_train, X_test, y_train, y_test = train_test_split(X, y, test_size=0.2, random_state=42)"
   ]
  },
  {
   "cell_type": "code",
   "execution_count": 48,
   "id": "11f76805",
   "metadata": {
    "execution": {
     "iopub.execute_input": "2025-01-02T08:03:02.634614Z",
     "iopub.status.busy": "2025-01-02T08:03:02.634240Z",
     "iopub.status.idle": "2025-01-02T08:03:02.639171Z",
     "shell.execute_reply": "2025-01-02T08:03:02.637915Z"
    },
    "papermill": {
     "duration": 0.01778,
     "end_time": "2025-01-02T08:03:02.641417",
     "exception": false,
     "start_time": "2025-01-02T08:03:02.623637",
     "status": "completed"
    },
    "tags": []
   },
   "outputs": [],
   "source": [
    "# Define MAPE metric\n",
    "def mape(y_true, y_pred):\n",
    "    return mean_absolute_percentage_error(np.expm1(y_true), np.expm1(y_pred))"
   ]
  },
  {
   "cell_type": "code",
   "execution_count": 49,
   "id": "3194a5dc",
   "metadata": {
    "execution": {
     "iopub.execute_input": "2025-01-02T08:03:02.660252Z",
     "iopub.status.busy": "2025-01-02T08:03:02.659878Z",
     "iopub.status.idle": "2025-01-02T08:04:21.174534Z",
     "shell.execute_reply": "2025-01-02T08:04:21.173481Z"
    },
    "papermill": {
     "duration": 78.526605,
     "end_time": "2025-01-02T08:04:21.176482",
     "exception": false,
     "start_time": "2025-01-02T08:03:02.649877",
     "status": "completed"
    },
    "tags": []
   },
   "outputs": [
    {
     "name": "stdout",
     "output_type": "stream",
     "text": [
      "LightGBM Fold 1 mape: 0.042908964349325576\n",
      "LightGBM Fold 2 mape: 0.042871761413659504\n",
      "LightGBM Fold 3 mape: 0.04308763213687475\n",
      "LightGBM Fold 4 mape: 0.042921668035047086\n",
      "LightGBM Fold 5 mape: 0.04288293188306569\n",
      "LightGBM mape: 0.04293;\n"
     ]
    }
   ],
   "source": [
    "kf = KFold(n_splits, shuffle=True, random_state=SEED)\n",
    "kf_splits = kf.split(X)\n",
    "scores1 = []\n",
    "test_preds1 = []\n",
    "\n",
    "lgbm_params1 = {\n",
    "    'boosting_type': 'gbdt',\n",
    "    'objective': 'regression',\n",
    "    'metric': 'rmse',\n",
    "    'n_estimators': n_estimators,\n",
    "    'learning_rate': 0.08,\n",
    "    'max_depth': 13,\n",
    "    'reg_alpha': 0.01,\n",
    "    'lambda_l2': 0.01,  \n",
    "    'min_child_samples' : 32,\n",
    "    'colsample_bytree': 0.93,\n",
    "    'subsample': 0.7, \n",
    "    'seed': SEED,\n",
    "    'verbose': -1,\n",
    "    'device' : 'cpu' \n",
    "}\n",
    "\n",
    "for i, (train_idx, val_idx) in enumerate(kf_splits):\n",
    "    X_train_fold, X_val_fold = X.iloc[train_idx], X.iloc[val_idx]\n",
    "    y_train_fold, y_val_fold = y.iloc[train_idx], y.iloc[val_idx]\n",
    "    \n",
    "    #train_lgbm_dataset = lgb.Dataset(X_train_fold, label=y_train_fold, categorical_feature=cat_cols)\n",
    "    #valid_lgbm_dataset = lgb.Dataset(X_val_fold, label=y_val_fold, categorical_feature=cat_cols)\n",
    "    \n",
    "    callbacks = [lgb.early_stopping(stopping_rounds=early_stopping_rounds, verbose=False)]\n",
    "    model = lgb.LGBMRegressor(**lgbm_params1)\n",
    "    model.fit(X_train_fold, y_train_fold, eval_set=[(X_val_fold, y_val_fold)], categorical_feature=cat_cols,eval_metric='rmse', callbacks=callbacks)\n",
    "    \n",
    "    val_pred = model.predict(X_val_fold, num_iteration=model.best_iteration_)\n",
    "    score = mape(y_val_fold, val_pred)\n",
    "    scores1.append(score)\n",
    "    \n",
    "    test_pred = np.maximum(model.predict(test, num_iteration=model.best_iteration_),0)\n",
    "    test_preds1.append(test_pred)\n",
    "    \n",
    "    print(f'LightGBM Fold {i + 1} mape: {score}')\n",
    "print(f'LightGBM mape: {np.mean(scores1):.5f};');\n"
   ]
  },
  {
   "cell_type": "code",
   "execution_count": 50,
   "id": "c86a8aca",
   "metadata": {
    "execution": {
     "iopub.execute_input": "2025-01-02T08:04:21.195450Z",
     "iopub.status.busy": "2025-01-02T08:04:21.195071Z",
     "iopub.status.idle": "2025-01-02T08:04:21.199366Z",
     "shell.execute_reply": "2025-01-02T08:04:21.198017Z"
    },
    "papermill": {
     "duration": 0.016313,
     "end_time": "2025-01-02T08:04:21.201293",
     "exception": false,
     "start_time": "2025-01-02T08:04:21.184980",
     "status": "completed"
    },
    "tags": []
   },
   "outputs": [],
   "source": [
    "#explainer = shap.TreeExplainer(model)\n",
    "#shap_values = explainer.shap_values(X_val_fold)\n",
    "#shap.summary_plot(shap_values, X_val_fold,feature_names=X_val_fold.columns.tolist(), max_display=20,show=False)\n",
    "#plt.title('SHAP Summary Plot')\n",
    "#plt.xlabel('SHAP value (impact on model output)')\n",
    "#plt.rcParams['font.size']=12\n",
    "#plt.show()"
   ]
  },
  {
   "cell_type": "code",
   "execution_count": 51,
   "id": "0b5bdbbb",
   "metadata": {
    "execution": {
     "iopub.execute_input": "2025-01-02T08:04:21.220762Z",
     "iopub.status.busy": "2025-01-02T08:04:21.220378Z",
     "iopub.status.idle": "2025-01-02T08:04:21.235735Z",
     "shell.execute_reply": "2025-01-02T08:04:21.234422Z"
    },
    "papermill": {
     "duration": 0.027252,
     "end_time": "2025-01-02T08:04:21.237743",
     "exception": false,
     "start_time": "2025-01-02T08:04:21.210491",
     "status": "completed"
    },
    "tags": []
   },
   "outputs": [
    {
     "name": "stdout",
     "output_type": "stream",
     "text": [
      "predict mean before: 745.2572532186413\n",
      "predict median before: 597.1282212387597\n",
      "predict mean after: 752.7098257508275\n",
      "predict median after: 603.0995034511473\n"
     ]
    }
   ],
   "source": [
    "#y_preds = (np.mean(test_preds1, axis=0)+np.mean(test_preds2, axis=0))/2\n",
    "#y_preds = np.mean(test_preds1, axis=0)\n",
    "y_preds = np.mean(test_preds1, axis=0)\n",
    "y_preds = np.expm1(y_preds)\n",
    "\n",
    "print('predict mean before:',y_preds.mean())\n",
    "print('predict median before:',np.median(y_preds))\n",
    "y_preds = y_preds*1.01\n",
    "print('predict mean after:',y_preds.mean())\n",
    "print('predict median after:',np.median(y_preds))\n",
    "\n",
    "y_preds = np.clip(y_preds,5,5939)\n"
   ]
  },
  {
   "cell_type": "code",
   "execution_count": 52,
   "id": "1a275386",
   "metadata": {
    "execution": {
     "iopub.execute_input": "2025-01-02T08:04:21.256680Z",
     "iopub.status.busy": "2025-01-02T08:04:21.256268Z",
     "iopub.status.idle": "2025-01-02T08:04:22.935636Z",
     "shell.execute_reply": "2025-01-02T08:04:22.934006Z"
    },
    "papermill": {
     "duration": 1.691296,
     "end_time": "2025-01-02T08:04:22.937841",
     "exception": false,
     "start_time": "2025-01-02T08:04:21.246545",
     "status": "completed"
    },
    "tags": []
   },
   "outputs": [
    {
     "name": "stderr",
     "output_type": "stream",
     "text": [
      "2025-01-02 22:45:06.459 | INFO     | fitter.fitter:_fit_single_distribution:333 - Fitted norm distribution with error=1e-05)\n",
      "2025-01-02 22:45:06.460 | INFO     | fitter.fitter:_fit_single_distribution:333 - Fitted laplace distribution with error=1e-05)\n",
      "2025-01-02 22:45:06.471 | INFO     | fitter.fitter:_fit_single_distribution:333 - Fitted expon distribution with error=6e-06)\n",
      "2025-01-02 22:45:06.629 | INFO     | fitter.fitter:_fit_single_distribution:333 - Fitted lognorm distribution with error=7e-06)\n",
      "2025-01-02 22:45:08.099 | INFO     | fitter.fitter:_fit_single_distribution:333 - Fitted gamma distribution with error=3e-06)\n"
     ]
    },
    {
     "name": "stdout",
     "output_type": "stream",
     "text": [
      "Distribution of predicting data:\n"
     ]
    },
    {
     "data": {
      "image/png": "[encoded data removed]",
      "text/plain": [
       "<Figure size 640x480 with 1 Axes>"
      ]
     },
     "metadata": {},
     "output_type": "display_data"
    }
   ],
   "source": [
    "f = Fitter(y_preds, distributions=['norm', 'lognorm', 'laplace', 'expon', 'gamma'])\n",
    "f.fit()\n",
    "print('Distribution of predicting data:')\n",
    "f.summary()   \n",
    "norm_params = f.fitted_param['norm']"
   ]
  },
  {
   "cell_type": "code",
   "execution_count": 53,
   "id": "6484f84a",
   "metadata": {
    "execution": {
     "iopub.execute_input": "2025-01-02T08:04:22.959573Z",
     "iopub.status.busy": "2025-01-02T08:04:22.959153Z",
     "iopub.status.idle": "2025-01-02T08:04:23.171135Z",
     "shell.execute_reply": "2025-01-02T08:04:23.169900Z"
    },
    "papermill": {
     "duration": 0.224959,
     "end_time": "2025-01-02T08:04:23.173315",
     "exception": false,
     "start_time": "2025-01-02T08:04:22.948356",
     "status": "completed"
    },
    "tags": []
   },
   "outputs": [
    {
     "name": "stdout",
     "output_type": "stream",
     "text": [
      "       id    num_sold\n",
      "0  230130  120.910496\n",
      "1  230131  936.152145\n",
      "2  230132  758.115771\n",
      "3  230133  420.739879\n",
      "4  230134  497.073867\n"
     ]
    }
   ],
   "source": [
    "# Save predictions for submission\n",
    "submission = pd.DataFrame({'id': test_data['id'], 'num_sold': y_preds})\n",
    "submission.to_csv('submission.csv', index=False)\n",
    "print(submission.head())"
   ]
  }
 ],
 "metadata": {
  "kaggle": {
   "accelerator": "none",
   "dataSources": [
    {
     "databundleVersionId": 10652996,
     "sourceId": 85723,
     "sourceType": "competition"
    },
    {
     "datasetId": 6218383,
     "sourceId": 10085759,
     "sourceType": "datasetVersion"
    }
   ],
   "dockerImageVersionId": 30822,
   "isGpuEnabled": false,
   "isInternetEnabled": true,
   "language": "python",
   "sourceType": "notebook"
  },
  "kernelspec": {
   "display_name": "base",
   "language": "python",
   "name": "python3"
  },
  "language_info": {
   "codemirror_mode": {
    "name": "ipython",
    "version": 3
   },
   "file_extension": ".py",
   "mimetype": "text/x-python",
   "name": "python",
   "nbconvert_exporter": "python",
   "pygments_lexer": "ipython3",
   "version": "3.12.7"
  },
  "papermill": {
   "default_parameters": {},
   "duration": 358.790363,
   "end_time": "2025-01-02T08:04:26.214090",
   "environment_variables": {},
   "exception": null,
   "input_path": "__notebook__.ipynb",
   "output_path": "__notebook__.ipynb",
   "parameters": {},
   "start_time": "2025-01-02T07:58:27.423727",
   "version": "2.6.0"
  }
 },
 "nbformat": 4,
 "nbformat_minor": 5
}
